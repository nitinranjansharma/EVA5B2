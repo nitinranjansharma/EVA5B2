{
 "metadata": {
  "language_info": {
   "codemirror_mode": {
    "name": "ipython",
    "version": 3
   },
   "file_extension": ".py",
   "mimetype": "text/x-python",
   "name": "python",
   "nbconvert_exporter": "python",
   "pygments_lexer": "ipython3",
   "version": "3.7.4"
  },
  "orig_nbformat": 2,
  "kernelspec": {
   "name": "python374jvsc74a57bd0b3ba2566441a7c06988d0923437866b63cedc61552a5af99d1f4fb67d367b25f",
   "display_name": "Python 3.7.4 64-bit (conda)"
  }
 },
 "nbformat": 4,
 "nbformat_minor": 2,
 "cells": [
  {
   "cell_type": "code",
   "execution_count": 1,
   "metadata": {},
   "outputs": [],
   "source": [
    "import os\n",
    "os.chdir('..')"
   ]
  },
  {
   "cell_type": "code",
   "execution_count": 2,
   "metadata": {},
   "outputs": [],
   "source": [
    "from fox.config import Config\n",
    "from fox.yolov3.utils.datasets import LoadImagesAndLabels\n",
    "from fox.utils import parse_data_cfg\n",
    "from fox.dataset import ComboDataset\n",
    "import torch"
   ]
  },
  {
   "cell_type": "code",
   "execution_count": 3,
   "metadata": {},
   "outputs": [
    {
     "output_type": "stream",
     "name": "stderr",
     "text": [
      "Caching labels data\\yolo\\labels.npy (3161 found, 0 missing, 42 empty, 0 duplicate, for 3203 images): 100%|██████████| 3203/3203 [00:00<00:00, 19412.04it/s]\n"
     ]
    }
   ],
   "source": [
    "c = Config(USE_PLANERCNN=False,BATCH_SIZE=2,EPOCHS=4)\n",
    "combo_dataset = ComboDataset(c)\n",
    "combo_loader = torch.utils.data.DataLoader(combo_dataset, batch_size=2, shuffle=True, collate_fn=combo_dataset.collate_fn)\n",
    "\n",
    "def collate_fn(batch):\n",
    "    yolo_data = LoadImagesAndLabels.collate_fn(batch)\n",
    "    return yolo_data[0].float() / 255, None, yolo_data, None\n",
    "\n",
    "data = parse_data_cfg(\"data/yolo/custom.data\")"
   ]
  },
  {
   "cell_type": "code",
   "execution_count": 4,
   "metadata": {},
   "outputs": [
    {
     "output_type": "stream",
     "name": "stderr",
     "text": [
      "Caching labels data\\yolo\\labels.npy (3161 found, 0 missing, 42 empty, 0 duplicate, for 3203 images): 100%|██████████| 3203/3203 [00:00<00:00, 23903.48it/s]\n"
     ]
    }
   ],
   "source": [
    "yolo_dataset = LoadImagesAndLabels(\n",
    "    data[\"train\"],\n",
    "    c.yolo_config.opt.img_size[1],\n",
    "    c.BATCH_SIZE,\n",
    "    augment=True,\n",
    "    hyp=c.yolo_config.hyp,\n",
    "    rect=c.yolo_config.opt.rect,\n",
    "    cache_images=c.yolo_config.opt.cache_images,\n",
    "    single_cls=False,\n",
    "    mosiac=False,\n",
    "    label_files_path=data[\"labels\"]\n",
    ")\n",
    "yolo_loader = torch.utils.data.DataLoader(yolo_dataset, batch_size=c.BATCH_SIZE, shuffle=True, pin_memory=True, collate_fn=collate_fn)"
   ]
  }
 ]
}