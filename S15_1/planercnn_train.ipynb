{
  "nbformat": 4,
  "nbformat_minor": 0,
  "metadata": {
    "colab": {
      "name": "notebook-planercnn.ipynb",
      "provenance": [],
      "collapsed_sections": []
    },
    "kernelspec": {
      "name": "python374jvsc74a57bd0b3ba2566441a7c06988d0923437866b63cedc61552a5af99d1f4fb67d367b25f",
      "display_name": "Python 3.7.4 64-bit (conda)"
    },
    "accelerator": "GPU"
  },
  "cells": [
    {
      "cell_type": "markdown",
      "metadata": {
        "id": "g7dFXFYcD4l7"
      },
      "source": [
        "## Downloading dependencies and code"
      ]
    },
    {
      "cell_type": "markdown",
      "metadata": {
        "id": "tsnnrD8lD75m"
      },
      "source": [
        "## Mounting drive, extracting dataset and weights"
      ]
    },
    {
      "cell_type": "markdown",
      "metadata": {
        "id": "OSLH5RWpEOt9"
      },
      "source": [
        "## Training PlaneRCNN"
      ]
    },
    {
      "cell_type": "code",
      "metadata": {
        "id": "4QGFxc7OD3Dm"
      },
      "source": [
        "from fox.config import Config\n",
        "from fox.dataset import ComboDataset\n",
        "from fox.model import Model\n",
        "import torch\n",
        "import pytorch_lightning as pl\n",
        "from athena.utils.progbar import ProgbarCallback\n",
        "from fox.utils import parse_data_cfg\n",
        "from fox.yolov3.utils.datasets import LoadImagesAndLabels"
      ],
      "execution_count": 1,
      "outputs": []
    },
    {
      "cell_type": "code",
      "metadata": {
        "colab": {
          "base_uri": "https://localhost:8080/"
        },
        "id": "0Vd8apcdEr8B",
        "outputId": "c237f001-1b13-4746-e5b3-cd132bb90bae"
      },
      "source": [
        "config = Config(\n",
        "    USE_YOLO=True,\n",
        "    DATA_DIR=\"data\",\n",
        "    IMG_SIZE=640,\n",
        "    MIN_IMG_SIZE=480,\n",
        "    BATCH_SIZE=1,\n",
        "    MIDAS_LOSS_WEIGHT=1,\n",
        "    PLANERCNN_LOSS_WEIGHT=1,\n",
        "    PREDICT_DEPTH=True,\n",
        "    EPOCHS=1\n",
        ")\n",
        "dataset = ComboDataset(config)\n",
        "val_dataset = ComboDataset(config, train=False)\n",
        "\n",
        "loader = torch.utils.data.DataLoader(\n",
        "    dataset,\n",
        "    batch_size=config.BATCH_SIZE,\n",
        "    shuffle=True,\n",
        "    collate_fn=dataset.collate_fn\n",
        ")\n",
        "loader_val = torch.utils.data.DataLoader(\n",
        "    val_dataset,\n",
        "    batch_size=config.BATCH_SIZE,\n",
        "    collate_fn=val_dataset.collate_fn\n",
        ")"
      ],
      "execution_count": 2,
      "outputs": [
        {
          "output_type": "stream",
          "name": "stderr",
          "text": [
            "Caching labels data\\yolo\\labels.npy (1001 found, 0 missing, 14 empty, 0 duplicate, for 1015 images): 100%|██████████| 1015/1015 [00:00<00:00, 18796.25it/s]\n",
            "Caching labels data\\yolo\\labels.npy (99 found, 0 missing, 0 empty, 0 duplicate, for 99 images): 100%|██████████| 99/99 [00:00<00:00, 3666.58it/s]\n"
          ]
        }
      ]
    },
    {
      "cell_type": "code",
      "metadata": {
        "colab": {
          "base_uri": "https://localhost:8080/"
        },
        "id": "OHcMALcOGX7R",
        "outputId": "c71216ba-0ce3-470b-da05-05175d2b0a15"
      },
      "source": [
        "model = Model(config, len(loader), 4, dataset.yolo_dataset.yolo_labels)"
      ],
      "execution_count": 3,
      "outputs": [
        {
          "output_type": "stream",
          "name": "stderr",
          "text": [
            "Using cache found in C:\\Users\\guddu/.cache\\torch\\hub\\facebookresearch_WSL-Images_master\n",
            "Loading weights:  weights/midas.pt\n",
            "Model Summary: 147 layers, 5.93877e+07 parameters, 5.93877e+07 gradients\n",
            "Using cache found in C:\\Users\\guddu/.cache\\torch\\hub\\ultralytics_yolov3_master\n",
            "\n",
            "                 from  n    params  module                                  arguments                     \n",
            "  0                -1  1       928  models.common.Conv                      [3, 32, 3, 1]                 \n",
            "  1                -1  1     18560  models.common.Conv                      [32, 64, 3, 2]                \n",
            "  2                -1  1     20672  models.common.Bottleneck                [64, 64]                      \n",
            "  3                -1  1     73984  models.common.Conv                      [64, 128, 3, 2]               \n",
            "  4                -1  2    164608  models.common.Bottleneck                [128, 128]                    \n",
            "  5                -1  1    295424  models.common.Conv                      [128, 256, 3, 2]              \n",
            "  6                -1  8   2627584  models.common.Bottleneck                [256, 256]                    \n",
            "  7                -1  1   1180672  models.common.Conv                      [256, 512, 3, 2]              \n",
            "  8                -1  8  10498048  models.common.Bottleneck                [512, 512]                    \n",
            "  9                -1  1   4720640  models.common.Conv                      [512, 1024, 3, 2]             \n",
            " 10                -1  4  20983808  models.common.Bottleneck                [1024, 1024]                  \n",
            " 11                -1  1   5245952  models.common.Bottleneck                [1024, 1024, False]           \n",
            " 12                -1  1    525312  models.common.Conv                      [1024, 512, [1, 1]]           \n",
            " 13                -1  1   4720640  models.common.Conv                      [512, 1024, 3, 1]             \n",
            " 14                -1  1    525312  models.common.Conv                      [1024, 512, 1, 1]             \n",
            " 15                -1  1   4720640  models.common.Conv                      [512, 1024, 3, 1]             \n",
            " 16                -2  1    131584  models.common.Conv                      [512, 256, 1, 1]              \n",
            " 17                -1  1         0  torch.nn.modules.upsampling.Upsample    [None, 2, 'nearest']          \n",
            " 18           [-1, 8]  1         0  models.common.Concat                    [1]                           \n",
            " 19                -1  1   1377792  models.common.Bottleneck                [768, 512, False]             \n",
            " 20                -1  1   1312256  models.common.Bottleneck                [512, 512, False]             \n",
            " 21                -1  1    131584  models.common.Conv                      [512, 256, 1, 1]              \n",
            " 22                -1  1   1180672  models.common.Conv                      [256, 512, 3, 1]              \n",
            " 23                -2  1     33024  models.common.Conv                      [256, 128, 1, 1]              \n",
            " 24                -1  1         0  torch.nn.modules.upsampling.Upsample    [None, 2, 'nearest']          \n",
            " 25           [-1, 6]  1         0  models.common.Concat                    [1]                           \n",
            " 26                -1  1    344832  models.common.Bottleneck                [384, 256, False]             \n",
            " 27                -1  2    656896  models.common.Bottleneck                [256, 256, False]             \n",
            " 28      [27, 22, 15]  1    457725  models.yolo.Detect                      [80, [[10, 13, 16, 30, 33, 23], [30, 61, 62, 45, 59, 119], [116, 90, 156, 198, 373, 326]], [256, 512, 1024]]\n",
            "Model Summary: 333 layers, 61949149 parameters, 61949149 gradients\n",
            "\n",
            "YOLOv3  2021-4-30 torch 1.7.0+cu101 CUDA:0 (GeForce RTX 2070 SUPER, 8192.0MB)\n",
            "\n",
            "Adding autoShape... \n"
          ]
        }
      ]
    },
    {
      "cell_type": "code",
      "metadata": {
        "colab": {
          "base_uri": "https://localhost:8080/"
        },
        "id": "sQJV_JQpGtlV",
        "outputId": "ad82e3bc-20ff-4588-9d5d-152b192e4624"
      },
      "source": [
        "pl.seed_everything(0)\n",
        "trainer = pl.Trainer(\n",
        "    max_epochs=config.EPOCHS,\n",
        "    gpus=1,\n",
        "    callbacks=[ProgbarCallback()],\n",
        "    progress_bar_refresh_rate=20,\n",
        "    automatic_optimization=False\n",
        ")\n",
        "\n",
        "trainer.fit(\n",
        "    model,\n",
        "    train_dataloader=loader,\n",
        "    val_dataloaders=loader_val\n",
        ")"
      ],
      "execution_count": 4,
      "outputs": [
        {
          "output_type": "stream",
          "name": "stderr",
          "text": [
            "Global seed set to 0\n",
            "GPU available: True, used: True\n",
            "TPU available: False, using: 0 TPU cores\n",
            "C:\\ProgramData\\Anaconda3\\lib\\site-packages\\pytorch_lightning\\utilities\\distributed.py:68: UserWarning: Disable automatic optimization with the trainer flag is deprecated and will be removed in v1.3.0!Please use the property on the LightningModule for disabling automatic optimization\n",
            "  warnings.warn(*args, **kwargs)\n",
            "LOCAL_RANK: 0 - CUDA_VISIBLE_DEVICES: [0]\n",
            "\n",
            "  | Name                   | Type          | Params\n",
            "---------------------------------------------------------\n",
            "0 | midas_net              | MidasNet      | 105 M \n",
            "1 | yolo_part              | YoloPart      | 64.5 M\n",
            "2 | planercnn_model        | MaskRCNN      | 24.3 M\n",
            "3 | planercnn_refine_model | RefineModel   | 979 K \n",
            "4 | planercnn_head         | PlaneRCNNHead | 78.0 M\n",
            "---------------------------------------------------------\n",
            "167 M     Trainable params\n",
            "105 M     Non-trainable params\n",
            "273 M     Total params\n",
            "1,092.801 Total estimated model params size (MB)\n",
            "C:\\ProgramData\\Anaconda3\\lib\\site-packages\\torch\\nn\\functional.py:2952: UserWarning: nn.functional.upsample is deprecated. Use nn.functional.interpolate instead.\n",
            "  warnings.warn(\"nn.functional.upsample is deprecated. Use nn.functional.interpolate instead.\")\n",
            "C:\\ProgramData\\Anaconda3\\lib\\site-packages\\torch\\nn\\functional.py:3063: UserWarning: Default upsampling behavior when mode=bilinear is changed to align_corners=False since 0.4.0. Please specify align_corners=True if the old behavior is desired. See the documentation of nn.Upsample for details.\n",
            "  \"See the documentation of nn.Upsample for details.\".format(mode))\n",
            "d:\\Assignment_ML_Engineer\\EVA_4.0\\S15_1\\fox\\yolov3\\eva5_helper.py:138: UserWarning: This overload of nonzero is deprecated:\n",
            "\tnonzero()\n",
            "Consider using one of the following signatures instead:\n",
            "\tnonzero(*, bool as_tuple) (Triggered internally at  ..\\torch\\csrc\\utils\\python_arg_parser.cpp:882.)\n",
            "  ti = (cls == tcls_tensor).nonzero().view(-1)  # target indices\n",
            "Epoch: 1 / 1\n",
            "C:\\ProgramData\\Anaconda3\\lib\\site-packages\\torch\\nn\\functional.py:3385: UserWarning: Default grid_sample and affine_grid behavior has changed to align_corners=False since 1.3.0. Please specify align_corners=True if the old behavior is desired. See the documentation of grid_sample for details.\n",
            "  warnings.warn(\"Default grid_sample and affine_grid behavior has changed \"\n",
            "1015/1015 [==============================] - 607s 598ms/step - avg yolo val loss: 12.3322 - yolo mAP: 3.3488e-05\n",
            "Validation set: total loss: 3.7004, midas loss: 2331.7778, yolo loss: 0.1680, planercnn loss: 3.5325\n",
            "\n"
          ]
        },
        {
          "output_type": "execute_result",
          "data": {
            "text/plain": [
              "1"
            ]
          },
          "metadata": {},
          "execution_count": 4
        }
      ]
    },
    {
      "cell_type": "code",
      "metadata": {
        "id": "GFSMf0ElakHF"
      },
      "source": [
        "torch.save(model.state_dict(), \"model.pt\")"
      ],
      "execution_count": null,
      "outputs": []
    },
    {
      "cell_type": "code",
      "execution_count": null,
      "metadata": {},
      "outputs": [],
      "source": []
    }
  ]
}