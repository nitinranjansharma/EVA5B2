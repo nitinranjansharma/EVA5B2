{
  "nbformat": 4,
  "nbformat_minor": 0,
  "metadata": {
    "accelerator": "GPU",
    "colab": {
      "name": "Assignment_3x.ipynb",
      "provenance": [],
      "collapsed_sections": [],
      "include_colab_link": true
    },
    "kernelspec": {
      "display_name": "Python 3",
      "name": "python3"
    }
  },
  "cells": [
    {
      "cell_type": "markdown",
      "metadata": {
        "id": "view-in-github",
        "colab_type": "text"
      },
      "source": [
        "<a href=\"https://colab.research.google.com/github/nitinranjansharma/EVA5B2/blob/main/week3x/Assignment_3x.ipynb\" target=\"_parent\"><img src=\"https://colab.research.google.com/assets/colab-badge.svg\" alt=\"Open In Colab\"/></a>"
      ]
    },
    {
      "cell_type": "markdown",
      "metadata": {
        "id": "ezBuiocWM6I_"
      },
      "source": [
        "## 1. Imports"
      ]
    },
    {
      "cell_type": "code",
      "metadata": {
        "id": "xrn_sEMlM8jG"
      },
      "source": [
        "import numpy as np\n",
        "import math\n",
        "import torch\n",
        "import torchvision # provide access to datasets, models, transforms, utils, etc\n",
        "import torchvision.transforms as transforms\n",
        "import torch.nn as nn\n",
        "import matplotlib.pyplot as plt\n",
        "import torch.nn.functional as F\n",
        "from torchsummary import summary "
      ],
      "execution_count": null,
      "outputs": []
    },
    {
      "cell_type": "markdown",
      "metadata": {
        "id": "eoPp4FbzNNNK"
      },
      "source": [
        "## 2. Importing Data"
      ]
    },
    {
      "cell_type": "code",
      "metadata": {
        "id": "ON7Ty9AbO2xr"
      },
      "source": [
        "# let's extend the Dataset class of Pytorch to build our own sample dataset\n",
        "from torch.utils.data import Dataset\n",
        "class OHLC(Dataset):\n",
        "  def __init__(self, csv_file):\n",
        "    self.data = pd.read_csv(csv_file)\n",
        "\n",
        "  def __getitem__(self, index):\n",
        "    r = self.data.iloc[index]\n",
        "    label = torch.tensor(r.is_up_day, dtype=torch.long)\n",
        "    sample = self.normalize(torch.tensor([r.open, r.high, r.low, r.close]))\n",
        "    return sample, label\n",
        "  \n",
        "  def __len__(self):\n",
        "    return len(self.data)"
      ],
      "execution_count": null,
      "outputs": []
    },
    {
      "cell_type": "code",
      "metadata": {
        "id": "8d7NqF1cNLXM"
      },
      "source": [
        "#3 Working emnist data\n",
        "# now let's work with EMnist\n",
        "\n",
        "train_set = torchvision.datasets.EMNIST(\n",
        "    root='./data'\n",
        "    ,train=True\n",
        "    ,download=True\n",
        "    ,split='balanced'\n",
        "    ,transform=transforms.Compose([\n",
        "        transforms.ToTensor()\n",
        "    ])\n",
        ")"
      ],
      "execution_count": null,
      "outputs": []
    },
    {
      "cell_type": "code",
      "metadata": {
        "id": "Rh5y_OWQOnwx"
      },
      "source": [
        "# using data loader to load the data batch and shuffle\n",
        "train_loader = torch.utils.data.DataLoader(train_set\n",
        "    ,batch_size=10\n",
        "    ,shuffle=True\n",
        ")"
      ],
      "execution_count": null,
      "outputs": []
    },
    {
      "cell_type": "code",
      "metadata": {
        "colab": {
          "base_uri": "https://localhost:8080/"
        },
        "id": "zmgNX5OJRnS4",
        "outputId": "1f48e615-bd00-46d4-8d59-ba02d6f7d161"
      },
      "source": [
        "len(train_set)"
      ],
      "execution_count": null,
      "outputs": [
        {
          "output_type": "execute_result",
          "data": {
            "text/plain": [
              "112800"
            ]
          },
          "metadata": {
            "tags": []
          },
          "execution_count": 5
        }
      ]
    },
    {
      "cell_type": "code",
      "metadata": {
        "colab": {
          "base_uri": "https://localhost:8080/"
        },
        "id": "MmeTbLOfTHLs",
        "outputId": "b01fda08-b487-4ecc-aa45-a7e261a27c74"
      },
      "source": [
        "(train_set.train_labels).unique()"
      ],
      "execution_count": null,
      "outputs": [
        {
          "output_type": "stream",
          "text": [
            "/usr/local/lib/python3.6/dist-packages/torchvision/datasets/mnist.py:48: UserWarning: train_labels has been renamed targets\n",
            "  warnings.warn(\"train_labels has been renamed targets\")\n"
          ],
          "name": "stderr"
        },
        {
          "output_type": "execute_result",
          "data": {
            "text/plain": [
              "tensor([ 0,  1,  2,  3,  4,  5,  6,  7,  8,  9, 10, 11, 12, 13, 14, 15, 16, 17,\n",
              "        18, 19, 20, 21, 22, 23, 24, 25, 26, 27, 28, 29, 30, 31, 32, 33, 34, 35,\n",
              "        36, 37, 38, 39, 40, 41, 42, 43, 44, 45, 46])"
            ]
          },
          "metadata": {
            "tags": []
          },
          "execution_count": 6
        }
      ]
    },
    {
      "cell_type": "code",
      "metadata": {
        "colab": {
          "base_uri": "https://localhost:8080/"
        },
        "id": "uxUpinQLTmlq",
        "outputId": "8d046eaf-d0bb-410a-c216-d14c1e10299a"
      },
      "source": [
        "train_set.train_labels.bincount() #frequency of each label, we have balanced class here"
      ],
      "execution_count": null,
      "outputs": [
        {
          "output_type": "stream",
          "text": [
            "/usr/local/lib/python3.6/dist-packages/torchvision/datasets/mnist.py:48: UserWarning: train_labels has been renamed targets\n",
            "  warnings.warn(\"train_labels has been renamed targets\")\n"
          ],
          "name": "stderr"
        },
        {
          "output_type": "execute_result",
          "data": {
            "text/plain": [
              "tensor([2400, 2400, 2400, 2400, 2400, 2400, 2400, 2400, 2400, 2400, 2400, 2400,\n",
              "        2400, 2400, 2400, 2400, 2400, 2400, 2400, 2400, 2400, 2400, 2400, 2400,\n",
              "        2400, 2400, 2400, 2400, 2400, 2400, 2400, 2400, 2400, 2400, 2400, 2400,\n",
              "        2400, 2400, 2400, 2400, 2400, 2400, 2400, 2400, 2400, 2400, 2400])"
            ]
          },
          "metadata": {
            "tags": []
          },
          "execution_count": 7
        }
      ]
    },
    {
      "cell_type": "code",
      "metadata": {
        "colab": {
          "base_uri": "https://localhost:8080/"
        },
        "id": "HpACc7aIfkSR",
        "outputId": "93777dd3-efdf-4adf-f85d-0357b3171e66"
      },
      "source": [
        "2400*47"
      ],
      "execution_count": null,
      "outputs": [
        {
          "output_type": "execute_result",
          "data": {
            "text/plain": [
              "112800"
            ]
          },
          "metadata": {
            "tags": []
          },
          "execution_count": 8
        }
      ]
    },
    {
      "cell_type": "code",
      "metadata": {
        "colab": {
          "base_uri": "https://localhost:8080/"
        },
        "id": "klWulFX2UGtQ",
        "outputId": "435109b9-1d64-404b-9dd8-7fd4d5de6ca5"
      },
      "source": [
        "for e in train_set:\n",
        "  print(e)\n",
        "  break"
      ],
      "execution_count": null,
      "outputs": [
        {
          "output_type": "stream",
          "text": [
            "(tensor([[[0.0000, 0.0000, 0.0000, 0.0000, 0.0000, 0.0000, 0.0000, 0.0000,\n",
            "          0.0000, 0.0000, 0.0000, 0.0000, 0.0000, 0.0000, 0.0000, 0.0000,\n",
            "          0.0000, 0.0000, 0.0000, 0.0000, 0.0000, 0.0000, 0.0000, 0.0000,\n",
            "          0.0000, 0.0000, 0.0000, 0.0000],\n",
            "         [0.0000, 0.0000, 0.0000, 0.0000, 0.0000, 0.0000, 0.0000, 0.0000,\n",
            "          0.0000, 0.0000, 0.0000, 0.0000, 0.0000, 0.0000, 0.0000, 0.0000,\n",
            "          0.0000, 0.0000, 0.0000, 0.0000, 0.0000, 0.0000, 0.0000, 0.0000,\n",
            "          0.0000, 0.0000, 0.0000, 0.0000],\n",
            "         [0.0000, 0.0000, 0.0000, 0.0000, 0.0000, 0.0000, 0.0000, 0.0039,\n",
            "          0.0275, 0.1255, 0.1412, 0.0824, 0.0118, 0.0000, 0.0000, 0.0000,\n",
            "          0.0000, 0.0000, 0.0000, 0.0000, 0.0000, 0.0000, 0.0000, 0.0000,\n",
            "          0.0000, 0.0000, 0.0000, 0.0000],\n",
            "         [0.0000, 0.0000, 0.0000, 0.0000, 0.0000, 0.0000, 0.0000, 0.0314,\n",
            "          0.1294, 0.4431, 0.4863, 0.3176, 0.0863, 0.0275, 0.0000, 0.0000,\n",
            "          0.0000, 0.0000, 0.0000, 0.0000, 0.0000, 0.0000, 0.0000, 0.0000,\n",
            "          0.0000, 0.0000, 0.0000, 0.0000],\n",
            "         [0.0000, 0.0000, 0.0000, 0.0000, 0.0000, 0.0000, 0.0078, 0.3020,\n",
            "          0.6196, 0.9529, 0.9765, 0.9098, 0.6235, 0.3725, 0.1333, 0.0784,\n",
            "          0.0039, 0.0000, 0.0000, 0.0000, 0.0000, 0.0000, 0.0000, 0.0000,\n",
            "          0.0000, 0.0000, 0.0000, 0.0000],\n",
            "         [0.0000, 0.0000, 0.0000, 0.0000, 0.0000, 0.0000, 0.0157, 0.4863,\n",
            "          0.8353, 0.9961, 0.9961, 0.9961, 0.9686, 0.9176, 0.7922, 0.6039,\n",
            "          0.0902, 0.0000, 0.0000, 0.0000, 0.0000, 0.0000, 0.0000, 0.0000,\n",
            "          0.0000, 0.0000, 0.0000, 0.0000],\n",
            "         [0.0000, 0.0000, 0.0000, 0.0000, 0.0000, 0.0000, 0.0157, 0.4471,\n",
            "          0.7961, 0.9961, 0.9961, 0.9961, 0.9961, 0.9882, 0.9490, 0.8118,\n",
            "          0.2314, 0.0275, 0.0039, 0.0000, 0.0000, 0.0000, 0.0000, 0.0000,\n",
            "          0.0000, 0.0000, 0.0000, 0.0000],\n",
            "         [0.0000, 0.0000, 0.0000, 0.0000, 0.0000, 0.0000, 0.0000, 0.1765,\n",
            "          0.4784, 0.9020, 0.9608, 0.9882, 0.9961, 0.9961, 0.9961, 0.9765,\n",
            "          0.8118, 0.3569, 0.1412, 0.0157, 0.0078, 0.0000, 0.0000, 0.0000,\n",
            "          0.0000, 0.0000, 0.0000, 0.0000],\n",
            "         [0.0000, 0.0000, 0.0000, 0.0000, 0.0000, 0.0000, 0.0000, 0.0784,\n",
            "          0.2627, 0.6667, 0.8000, 0.9255, 0.9961, 0.9961, 0.9961, 0.9961,\n",
            "          0.9569, 0.6392, 0.3765, 0.1294, 0.0745, 0.0000, 0.0000, 0.0000,\n",
            "          0.0000, 0.0000, 0.0000, 0.0000],\n",
            "         [0.0000, 0.0000, 0.0000, 0.0000, 0.0000, 0.0000, 0.0000, 0.0000,\n",
            "          0.0118, 0.0941, 0.1765, 0.6275, 0.9843, 0.9961, 1.0000, 0.9961,\n",
            "          0.9961, 0.9686, 0.9176, 0.7451, 0.4745, 0.0314, 0.0000, 0.0000,\n",
            "          0.0000, 0.0000, 0.0000, 0.0000],\n",
            "         [0.0000, 0.0000, 0.0000, 0.0000, 0.0000, 0.0000, 0.0000, 0.0000,\n",
            "          0.0118, 0.2627, 0.4824, 0.8706, 0.9961, 0.9961, 1.0000, 1.0000,\n",
            "          0.9961, 0.9961, 0.9961, 0.9569, 0.7922, 0.1255, 0.0000, 0.0000,\n",
            "          0.0000, 0.0000, 0.0000, 0.0000],\n",
            "         [0.0000, 0.0000, 0.0000, 0.0000, 0.0000, 0.0000, 0.0000, 0.0039,\n",
            "          0.0392, 0.4824, 0.7647, 0.9686, 0.9961, 0.9961, 1.0000, 1.0000,\n",
            "          1.0000, 0.9961, 0.9961, 0.9529, 0.7843, 0.1255, 0.0000, 0.0000,\n",
            "          0.0000, 0.0000, 0.0000, 0.0000],\n",
            "         [0.0000, 0.0000, 0.0000, 0.0000, 0.0000, 0.0000, 0.0000, 0.0784,\n",
            "          0.3020, 0.8627, 0.9686, 0.9961, 0.9961, 0.9961, 0.9882, 0.9843,\n",
            "          0.9882, 0.9961, 0.9882, 0.6941, 0.3725, 0.0275, 0.0000, 0.0000,\n",
            "          0.0000, 0.0000, 0.0000, 0.0000],\n",
            "         [0.0000, 0.0000, 0.0000, 0.0000, 0.0000, 0.0000, 0.0000, 0.1961,\n",
            "          0.5451, 0.9804, 0.9961, 0.9961, 0.9765, 0.9176, 0.6784, 0.5569,\n",
            "          0.6745, 0.8431, 0.8353, 0.4314, 0.1294, 0.0000, 0.0000, 0.0000,\n",
            "          0.0000, 0.0000, 0.0000, 0.0000],\n",
            "         [0.0000, 0.0000, 0.0000, 0.0000, 0.0000, 0.0000, 0.0078, 0.3216,\n",
            "          0.6745, 0.9882, 0.9961, 0.9961, 0.9176, 0.7333, 0.3294, 0.2039,\n",
            "          0.3216, 0.4902, 0.4902, 0.2471, 0.0706, 0.0000, 0.0000, 0.0000,\n",
            "          0.0000, 0.0000, 0.0000, 0.0000],\n",
            "         [0.0000, 0.0000, 0.0000, 0.0000, 0.0000, 0.0000, 0.0157, 0.4902,\n",
            "          0.8431, 0.9961, 0.9961, 0.9882, 0.6784, 0.3294, 0.0157, 0.0039,\n",
            "          0.0078, 0.0157, 0.0157, 0.0078, 0.0000, 0.0000, 0.0000, 0.0000,\n",
            "          0.0000, 0.0000, 0.0000, 0.0000],\n",
            "         [0.0000, 0.0000, 0.0000, 0.0000, 0.0000, 0.0000, 0.0157, 0.4980,\n",
            "          0.8510, 0.9961, 0.9961, 0.9608, 0.4510, 0.1333, 0.0000, 0.0000,\n",
            "          0.0000, 0.0000, 0.0000, 0.0000, 0.0000, 0.0000, 0.0000, 0.0000,\n",
            "          0.0000, 0.0000, 0.0000, 0.0000],\n",
            "         [0.0000, 0.0000, 0.0000, 0.0000, 0.0000, 0.0000, 0.0157, 0.4980,\n",
            "          0.8510, 0.9961, 0.9961, 0.9137, 0.3216, 0.0824, 0.0000, 0.0000,\n",
            "          0.0000, 0.0000, 0.0000, 0.0000, 0.0000, 0.0000, 0.0000, 0.0000,\n",
            "          0.0000, 0.0000, 0.0000, 0.0000],\n",
            "         [0.0000, 0.0000, 0.0000, 0.0000, 0.0000, 0.0000, 0.0157, 0.4980,\n",
            "          0.8510, 0.9961, 0.9961, 0.8510, 0.1529, 0.0196, 0.0000, 0.0000,\n",
            "          0.0000, 0.0000, 0.0000, 0.0000, 0.0000, 0.0000, 0.0000, 0.0000,\n",
            "          0.0000, 0.0000, 0.0000, 0.0000],\n",
            "         [0.0000, 0.0000, 0.0000, 0.0000, 0.0000, 0.0000, 0.0157, 0.4980,\n",
            "          0.8510, 0.9961, 0.9961, 0.8510, 0.1451, 0.0157, 0.0000, 0.0000,\n",
            "          0.0000, 0.0000, 0.0000, 0.0000, 0.0000, 0.0000, 0.0000, 0.0000,\n",
            "          0.0000, 0.0000, 0.0000, 0.0000],\n",
            "         [0.0000, 0.0000, 0.0000, 0.0000, 0.0000, 0.0000, 0.0157, 0.4980,\n",
            "          0.8510, 0.9961, 0.9961, 0.8510, 0.1451, 0.0157, 0.0000, 0.0000,\n",
            "          0.0000, 0.0000, 0.0000, 0.0000, 0.0000, 0.0000, 0.0000, 0.0000,\n",
            "          0.0000, 0.0000, 0.0000, 0.0000],\n",
            "         [0.0000, 0.0000, 0.0000, 0.0000, 0.0000, 0.0000, 0.0157, 0.4902,\n",
            "          0.8431, 0.9961, 0.9961, 0.8510, 0.1451, 0.0157, 0.0000, 0.0000,\n",
            "          0.0000, 0.0000, 0.0000, 0.0000, 0.0000, 0.0000, 0.0000, 0.0000,\n",
            "          0.0000, 0.0000, 0.0000, 0.0000],\n",
            "         [0.0000, 0.0000, 0.0000, 0.0000, 0.0000, 0.0000, 0.0157, 0.4471,\n",
            "          0.7961, 0.9961, 0.9961, 0.8431, 0.1451, 0.0157, 0.0000, 0.0000,\n",
            "          0.0000, 0.0000, 0.0000, 0.0000, 0.0000, 0.0000, 0.0000, 0.0000,\n",
            "          0.0000, 0.0000, 0.0000, 0.0000],\n",
            "         [0.0000, 0.0000, 0.0000, 0.0000, 0.0000, 0.0000, 0.0000, 0.1765,\n",
            "          0.4784, 0.8980, 0.9333, 0.6196, 0.0784, 0.0078, 0.0000, 0.0000,\n",
            "          0.0000, 0.0000, 0.0000, 0.0000, 0.0000, 0.0000, 0.0000, 0.0000,\n",
            "          0.0000, 0.0000, 0.0000, 0.0000],\n",
            "         [0.0000, 0.0000, 0.0000, 0.0000, 0.0000, 0.0000, 0.0000, 0.0196,\n",
            "          0.0784, 0.3137, 0.3922, 0.1294, 0.0039, 0.0000, 0.0000, 0.0000,\n",
            "          0.0000, 0.0000, 0.0000, 0.0000, 0.0000, 0.0000, 0.0000, 0.0000,\n",
            "          0.0000, 0.0000, 0.0000, 0.0000],\n",
            "         [0.0000, 0.0000, 0.0000, 0.0000, 0.0000, 0.0000, 0.0000, 0.0000,\n",
            "          0.0078, 0.0784, 0.1059, 0.0275, 0.0000, 0.0000, 0.0000, 0.0000,\n",
            "          0.0000, 0.0000, 0.0000, 0.0000, 0.0000, 0.0000, 0.0000, 0.0000,\n",
            "          0.0000, 0.0000, 0.0000, 0.0000],\n",
            "         [0.0000, 0.0000, 0.0000, 0.0000, 0.0000, 0.0000, 0.0000, 0.0000,\n",
            "          0.0000, 0.0000, 0.0000, 0.0000, 0.0000, 0.0000, 0.0000, 0.0000,\n",
            "          0.0000, 0.0000, 0.0000, 0.0000, 0.0000, 0.0000, 0.0000, 0.0000,\n",
            "          0.0000, 0.0000, 0.0000, 0.0000],\n",
            "         [0.0000, 0.0000, 0.0000, 0.0000, 0.0000, 0.0000, 0.0000, 0.0000,\n",
            "          0.0000, 0.0000, 0.0000, 0.0000, 0.0000, 0.0000, 0.0000, 0.0000,\n",
            "          0.0000, 0.0000, 0.0000, 0.0000, 0.0000, 0.0000, 0.0000, 0.0000,\n",
            "          0.0000, 0.0000, 0.0000, 0.0000]]]), 45)\n"
          ],
          "name": "stdout"
        }
      ]
    },
    {
      "cell_type": "code",
      "metadata": {
        "colab": {
          "base_uri": "https://localhost:8080/"
        },
        "id": "KulPk8hdUN5h",
        "outputId": "e0b83b84-15cd-4fcb-92e4-ea7c0ee8d0cf"
      },
      "source": [
        "sample = next(iter(train_set))\n",
        "\n",
        "len(sample)\n"
      ],
      "execution_count": null,
      "outputs": [
        {
          "output_type": "execute_result",
          "data": {
            "text/plain": [
              "2"
            ]
          },
          "metadata": {
            "tags": []
          },
          "execution_count": 10
        }
      ]
    },
    {
      "cell_type": "code",
      "metadata": {
        "colab": {
          "base_uri": "https://localhost:8080/"
        },
        "id": "xa7ECDjKUZwN",
        "outputId": "15262951-7ca9-4116-bcb1-ff9905175e3f"
      },
      "source": [
        "image, label = sample\n",
        "print(image.shape)"
      ],
      "execution_count": null,
      "outputs": [
        {
          "output_type": "stream",
          "text": [
            "torch.Size([1, 28, 28])\n"
          ],
          "name": "stdout"
        }
      ]
    },
    {
      "cell_type": "code",
      "metadata": {
        "colab": {
          "base_uri": "https://localhost:8080/",
          "height": 282
        },
        "id": "fv50EaC_Uocf",
        "outputId": "14211e86-858d-426d-8e21-e9cec5bd10f2"
      },
      "source": [
        "plt.imshow(image.squeeze(), cmap='gray')\n",
        "print('label:', label)"
      ],
      "execution_count": null,
      "outputs": [
        {
          "output_type": "stream",
          "text": [
            "label: 45\n"
          ],
          "name": "stdout"
        },
        {
          "output_type": "display_data",
          "data": {
            "image/png": "[encoded data removed]",
            "text/plain": [
              "<Figure size 432x288 with 1 Axes>"
            ]
          },
          "metadata": {
            "tags": []
          }
        }
      ]
    },
    {
      "cell_type": "code",
      "metadata": {
        "colab": {
          "base_uri": "https://localhost:8080/"
        },
        "id": "a3jk94ZXU7Uy",
        "outputId": "858fd272-472e-497d-ad4d-3333ace1627c"
      },
      "source": [
        "batch = next(iter(train_loader))\n",
        "\n",
        "len(batch), type(batch)"
      ],
      "execution_count": null,
      "outputs": [
        {
          "output_type": "execute_result",
          "data": {
            "text/plain": [
              "(2, list)"
            ]
          },
          "metadata": {
            "tags": []
          },
          "execution_count": 13
        }
      ]
    },
    {
      "cell_type": "code",
      "metadata": {
        "id": "-yv8RyH4xUFQ"
      },
      "source": [
        "images, labels = batch"
      ],
      "execution_count": null,
      "outputs": []
    },
    {
      "cell_type": "code",
      "metadata": {
        "colab": {
          "base_uri": "https://localhost:8080/"
        },
        "id": "1V-_WP4KxV_O",
        "outputId": "4670be26-044b-45bb-98dd-8f75a34e6d69"
      },
      "source": [
        "image.shape, labels.shape"
      ],
      "execution_count": null,
      "outputs": [
        {
          "output_type": "execute_result",
          "data": {
            "text/plain": [
              "(torch.Size([1, 28, 28]), torch.Size([10]))"
            ]
          },
          "metadata": {
            "tags": []
          },
          "execution_count": 15
        }
      ]
    },
    {
      "cell_type": "code",
      "metadata": {
        "colab": {
          "base_uri": "https://localhost:8080/",
          "height": 156
        },
        "id": "vZUzOebYxYom",
        "outputId": "822b9063-c020-40ab-832b-e3e229129a7c"
      },
      "source": [
        "grid = torchvision.utils.make_grid(images, nrow=10)\n",
        "plt.figure(figsize=(15,15))\n",
        "plt.imshow(np.transpose(grid, (1,2,0)))\n",
        "print('labels:', labels)"
      ],
      "execution_count": null,
      "outputs": [
        {
          "output_type": "stream",
          "text": [
            "labels: tensor([14, 28, 23,  6, 20,  7,  5,  1, 35, 25])\n"
          ],
          "name": "stdout"
        },
        {
          "output_type": "display_data",
          "data": {
            "image/png": "[encoded data removed]",
            "text/plain": [
              "<Figure size 1080x1080 with 1 Axes>"
            ]
          },
          "metadata": {
            "tags": []
          }
        }
      ]
    },
    {
      "cell_type": "markdown",
      "metadata": {
        "id": "Gtdv9fC-VQdE"
      },
      "source": [
        "## 3. Building a network"
      ]
    },
    {
      "cell_type": "code",
      "metadata": {
        "id": "s4OfekW3ufwl"
      },
      "source": [
        "## getting the batch aize in place\n",
        "train_loader = torch.utils.data.DataLoader(train_set\n",
        "    ,batch_size=64\n",
        "    ,shuffle=True\n",
        ")"
      ],
      "execution_count": null,
      "outputs": []
    },
    {
      "cell_type": "code",
      "metadata": {
        "id": "AMFy1AO9VKOF"
      },
      "source": [
        "## Defining the network - skeleton\n",
        "\n",
        "class Network(nn.Module):\n",
        "    def __init__(self):\n",
        "        super().__init__()\n",
        "        self.layer = None\n",
        "\n",
        "    def forward(self, t):\n",
        "        t = self.layer(t)\n",
        "        return t"
      ],
      "execution_count": null,
      "outputs": []
    },
    {
      "cell_type": "code",
      "metadata": {
        "id": "GFo0HMz_VdGq"
      },
      "source": [
        "## Defining the network - actual\n",
        "class Network(nn.Module):\n",
        "    def __init__(self):\n",
        "        super().__init__()\n",
        "        self.conv1 = nn.Conv2d(in_channels=1, out_channels=10, kernel_size=3) #  1x28x28 -> 10x26x26 rf-3x3\n",
        "        self.conv2 = nn.Conv2d(in_channels=10, out_channels=10, kernel_size=3) #  10x26x26 -> 10x24x24 rf -5x5 \n",
        "        self.pool1 = nn.MaxPool2d(2, 2)#  10x24x24 -> 10x12x12 rf- 10x10\n",
        "\n",
        "        self.conv3 = nn.Conv2d(in_channels=10, out_channels=20, kernel_size=3) #  10x12*12 -> 20x10x10 rf - 12x12\n",
        "        self.conv4 = nn.Conv2d(in_channels=20, out_channels=20, kernel_size=3) #  20x10x10 -> 20x8x8 rf - 14x14\n",
        "        self.pool2 = nn.MaxPool2d(2, 2)#  20x8x8 -> 20x4x4 rf - 28x28\n",
        "\n",
        "        self.conv5 = nn.Conv2d(in_channels=20, out_channels=30, kernel_size=3) #  20x4x4 -> 30x2x2 rf - 30x30\n",
        "        self.conv6 = nn.Conv2d(in_channels=30, out_channels=47, kernel_size=1) #  30x2x2 -> 47x2x2 rf - 30x30\n",
        "\n",
        "\n",
        "\n",
        "    def forward(self, t):\n",
        "        # implement the forward pass\n",
        "        x = self.pool1(F.relu(self.conv2(F.relu(self.conv1(t)))))                #The forward function computes output Tensors from input Tensors.\n",
        "        x = self.pool2(F.relu(self.conv4(F.relu(self.conv3(x)))))\n",
        "        x = (self.conv6(F.relu(self.conv5(x))))\n",
        "\n",
        "        x = F.adaptive_avg_pool2d(x, (1, 1))\n",
        "        x = x.view(-1, 47)\n",
        "        \n",
        "        return F.log_softmax(x)\n"
      ],
      "execution_count": null,
      "outputs": []
    },
    {
      "cell_type": "code",
      "metadata": {
        "colab": {
          "base_uri": "https://localhost:8080/"
        },
        "id": "aCq9VOIhVkRu",
        "outputId": "f2528df7-e9b1-47e9-8e4a-3d87ab6c6b5b"
      },
      "source": [
        "network = Network()\n",
        "print(network)"
      ],
      "execution_count": null,
      "outputs": [
        {
          "output_type": "stream",
          "text": [
            "Network(\n",
            "  (conv1): Conv2d(1, 10, kernel_size=(3, 3), stride=(1, 1))\n",
            "  (conv2): Conv2d(10, 10, kernel_size=(3, 3), stride=(1, 1))\n",
            "  (pool1): MaxPool2d(kernel_size=2, stride=2, padding=0, dilation=1, ceil_mode=False)\n",
            "  (conv3): Conv2d(10, 20, kernel_size=(3, 3), stride=(1, 1))\n",
            "  (conv4): Conv2d(20, 20, kernel_size=(3, 3), stride=(1, 1))\n",
            "  (pool2): MaxPool2d(kernel_size=2, stride=2, padding=0, dilation=1, ceil_mode=False)\n",
            "  (conv5): Conv2d(20, 30, kernel_size=(3, 3), stride=(1, 1))\n",
            "  (conv6): Conv2d(30, 47, kernel_size=(1, 1), stride=(1, 1))\n",
            ")\n"
          ],
          "name": "stdout"
        }
      ]
    },
    {
      "cell_type": "code",
      "metadata": {
        "id": "3qDo2BbFum01"
      },
      "source": [
        "\n",
        "#summary(network, input_size=(1, 28, 28)) "
      ],
      "execution_count": null,
      "outputs": []
    },
    {
      "cell_type": "code",
      "metadata": {
        "colab": {
          "base_uri": "https://localhost:8080/"
        },
        "id": "ihI5wAK9bsnS",
        "outputId": "d530b392-c744-4e86-e5c5-6fd35fc909da"
      },
      "source": [
        "torch.set_grad_enabled(True)"
      ],
      "execution_count": null,
      "outputs": [
        {
          "output_type": "execute_result",
          "data": {
            "text/plain": [
              "<torch.autograd.grad_mode.set_grad_enabled at 0x7f24a037ab70>"
            ]
          },
          "metadata": {
            "tags": []
          },
          "execution_count": 22
        }
      ]
    },
    {
      "cell_type": "markdown",
      "metadata": {
        "id": "C1bL_4WG3cQJ"
      },
      "source": [
        "## 4. Training process"
      ]
    },
    {
      "cell_type": "code",
      "metadata": {
        "id": "R4VyJTk7dbQC"
      },
      "source": [
        "from tqdm import tqdm  #load the library to display progress bar\r\n",
        "def train(model, device, train_loader, optimizer, epoch): #defining the model training function\r\n",
        "    model.train() # Activating the model traing mode. Layers like BatchNorm, Dropout working differently in training and validation\r\n",
        "    pbar = tqdm(train_loader) #loading the pytorch data loader in a tqdm wrapper \r\n",
        "    for batch_idx, (data, target) in enumerate(pbar): #looping over the tqdm data wrapper. This gives each batch(size of 128 images) over which we want calaculate gradient  \r\n",
        "\r\n",
        "        data, target = data.to(device), target.to(device) #Pushing the images and target to GPU\r\n",
        "        optimizer.zero_grad() #Initializing the gradient of all parameters to Zero \r\n",
        "        output = model(data) #Run the forward pass using current parameter values and calculate the output  \r\n",
        "        loss = F.nll_loss(output, target) #Calculate the negative log likelihood loss for the output and target \r\n",
        "        loss.backward() #Calculate gradient (dloss/dx) for all trainable parameters and stores the gradients  \r\n",
        "        optimizer.step() #Update the parameter values using the optimizer lerning rate and momentum \r\n",
        "        pbar.set_description(desc= f'loss={loss.item()} batch_id={batch_idx}') #display the loss value for each batch with batch number\r\n",
        "\r\n"
      ],
      "execution_count": null,
      "outputs": []
    },
    {
      "cell_type": "code",
      "metadata": {
        "colab": {
          "base_uri": "https://localhost:8080/"
        },
        "id": "Ki3eZlg3i0Kp",
        "outputId": "b04758a6-8be1-49a3-8464-4f22bee55557"
      },
      "source": [
        "use_cuda = torch.cuda.is_available() #create a boolean to check if GPU is available \r\n",
        "device = torch.device(\"cuda\" if use_cuda else \"cpu\")\r\n",
        "model =  Network().to(device) #Pushing the model to GPU\r\n",
        "import torch.optim as optim\r\n",
        "optimizer = optim.SGD(model.parameters(), lr=0.01, momentum=0.9) #Initializing the optimizer stochastic gradient descent with momentum, here learning rate is 0.01 and momentum is 0.9 \r\n",
        "\r\n",
        "for epoch in range(1, 20): #looping the entire data 1 time as we are using range(1,2)\r\n",
        "   train(model, device, train_loader, optimizer, epoch) #Train the model\r\n",
        "   #test(model, device, test_loader) #Test the model"
      ],
      "execution_count": null,
      "outputs": [
        {
          "output_type": "stream",
          "text": [
            "  0%|          | 0/1763 [00:00<?, ?it/s]/usr/local/lib/python3.6/dist-packages/ipykernel_launcher.py:26: UserWarning: Implicit dimension choice for log_softmax has been deprecated. Change the call to include dim=X as an argument.\n",
            "loss=1.6242012977600098 batch_id=1762: 100%|██████████| 1763/1763 [00:22<00:00, 77.33it/s]\n",
            "loss=0.4234316647052765 batch_id=1762: 100%|██████████| 1763/1763 [00:22<00:00, 78.20it/s]\n",
            "loss=0.6535381078720093 batch_id=1762: 100%|██████████| 1763/1763 [00:22<00:00, 79.35it/s]\n",
            "loss=0.37418925762176514 batch_id=1762: 100%|██████████| 1763/1763 [00:21<00:00, 80.35it/s]\n",
            "loss=0.3365480303764343 batch_id=1762: 100%|██████████| 1763/1763 [00:22<00:00, 79.88it/s]\n",
            "loss=0.33287540078163147 batch_id=1762: 100%|██████████| 1763/1763 [00:21<00:00, 80.46it/s]\n",
            "loss=0.6492603421211243 batch_id=1762: 100%|██████████| 1763/1763 [00:22<00:00, 79.87it/s]\n",
            "loss=0.26803135871887207 batch_id=1762: 100%|██████████| 1763/1763 [00:22<00:00, 79.88it/s]\n",
            "loss=0.26572030782699585 batch_id=1762: 100%|██████████| 1763/1763 [00:21<00:00, 80.64it/s]\n",
            "loss=0.4549686312675476 batch_id=1762: 100%|██████████| 1763/1763 [00:21<00:00, 80.81it/s]\n",
            "loss=0.13070634007453918 batch_id=1762: 100%|██████████| 1763/1763 [00:21<00:00, 81.79it/s]\n",
            "loss=0.319060355424881 batch_id=1762: 100%|██████████| 1763/1763 [00:21<00:00, 82.00it/s]\n",
            "loss=0.06527682393789291 batch_id=1762: 100%|██████████| 1763/1763 [00:22<00:00, 80.10it/s]\n",
            "loss=0.23233921825885773 batch_id=1762: 100%|██████████| 1763/1763 [00:21<00:00, 81.56it/s]\n",
            "loss=0.4172009527683258 batch_id=1762: 100%|██████████| 1763/1763 [00:21<00:00, 81.85it/s]\n",
            "loss=0.2081592082977295 batch_id=1762: 100%|██████████| 1763/1763 [00:21<00:00, 80.66it/s]\n",
            "loss=0.23784443736076355 batch_id=1762: 100%|██████████| 1763/1763 [00:21<00:00, 81.37it/s]\n",
            "loss=0.7735433578491211 batch_id=1762: 100%|██████████| 1763/1763 [00:21<00:00, 81.45it/s]\n",
            "loss=0.15409663319587708 batch_id=1762: 100%|██████████| 1763/1763 [00:21<00:00, 81.04it/s]\n"
          ],
          "name": "stderr"
        }
      ]
    },
    {
      "cell_type": "code",
      "metadata": {
        "id": "j_RXZ10QvGVz"
      },
      "source": [
        ""
      ],
      "execution_count": null,
      "outputs": []
    }
  ]
}