{
  "nbformat": 4,
  "nbformat_minor": 0,
  "metadata": {
    "kernelspec": {
      "name": "python3",
      "display_name": "Python 3"
    },
    "language_info": {
      "codemirror_mode": {
        "name": "ipython",
        "version": 3
      },
      "file_extension": ".py",
      "mimetype": "text/x-python",
      "name": "python",
      "nbconvert_exporter": "python",
      "pygments_lexer": "ipython3",
      "version": "3.6.6"
    },
    "colab": {
      "name": "S7_process_notebook.ipynb",
      "provenance": [],
      "collapsed_sections": [],
      "include_colab_link": true
    },
    "accelerator": "GPU"
  },
  "cells": [
    {
      "cell_type": "markdown",
      "metadata": {
        "id": "view-in-github",
        "colab_type": "text"
      },
      "source": [
        "<a href=\"https://colab.research.google.com/github/nitinranjansharma/EVA5B2/blob/main/s7/S7_process_notebook.ipynb\" target=\"_parent\"><img src=\"https://colab.research.google.com/assets/colab-badge.svg\" alt=\"Open In Colab\"/></a>"
      ]
    },
    {
      "cell_type": "code",
      "metadata": {
        "id": "QVbdg0z4poCc"
      },
      "source": [
        "%matplotlib inline"
      ],
      "execution_count": null,
      "outputs": []
    },
    {
      "cell_type": "markdown",
      "metadata": {
        "id": "fPogbueepoCh"
      },
      "source": [
        "\n",
        "Training a Classifier\n",
        "=====================\n",
        "\n",
        "This is it. You have seen how to define neural networks, compute loss and make\n",
        "updates to the weights of the network.\n",
        "\n",
        "Now you might be thinking,\n",
        "\n",
        "What about data?\n",
        "----------------\n",
        "\n",
        "Generally, when you have to deal with image, text, audio or video data,\n",
        "you can use standard python packages that load data into a numpy array.\n",
        "Then you can convert this array into a ``torch.*Tensor``.\n",
        "\n",
        "-  For images, packages such as Pillow, OpenCV are useful\n",
        "-  For audio, packages such as scipy and librosa\n",
        "-  For text, either raw Python or Cython based loading, or NLTK and\n",
        "   SpaCy are useful\n",
        "\n",
        "Specifically for vision, we have created a package called\n",
        "``torchvision``, that has data loaders for common datasets such as\n",
        "Imagenet, CIFAR10, MNIST, etc. and data transformers for images, viz.,\n",
        "``torchvision.datasets`` and ``torch.utils.data.DataLoader``.\n",
        "\n",
        "This provides a huge convenience and avoids writing boilerplate code.\n",
        "\n",
        "For this tutorial, we will use the CIFAR10 dataset.\n",
        "It has the classes: ‘airplane’, ‘automobile’, ‘bird’, ‘cat’, ‘deer’,\n",
        "‘dog’, ‘frog’, ‘horse’, ‘ship’, ‘truck’. The images in CIFAR-10 are of\n",
        "size 3x32x32, i.e. 3-channel color images of 32x32 pixels in size.\n",
        "\n",
        ".. figure:: /_static/img/cifar10.png\n",
        "   :alt: cifar10\n",
        "\n",
        "   cifar10\n",
        "\n",
        "\n",
        "Training an image classifier\n",
        "----------------------------\n",
        "\n",
        "We will do the following steps in order:\n",
        "\n",
        "1. Load and normalizing the CIFAR10 training and test datasets using\n",
        "   ``torchvision``\n",
        "2. Define a Convolution Neural Network\n",
        "3. Define a loss function\n",
        "4. Train the network on the training data\n",
        "5. Test the network on the test data\n",
        "\n",
        "1. Loading and normalizing CIFAR10\n",
        "^^^^^^^^^^^^^^^^^^^^^^^^^^^^^^^^^^\n",
        "\n",
        "Using ``torchvision``, it’s extremely easy to load CIFAR10.\n",
        "\n"
      ]
    },
    {
      "cell_type": "code",
      "metadata": {
        "id": "-yVpodAMpoCi"
      },
      "source": [
        "import torch\n",
        "import torchvision\n",
        "import torchvision.transforms as transforms\n",
        "import torch.nn as nn\n",
        "import torch.nn.functional as F"
      ],
      "execution_count": null,
      "outputs": []
    },
    {
      "cell_type": "markdown",
      "metadata": {
        "id": "5kjt4e2TpoCk"
      },
      "source": [
        "The output of torchvision datasets are PILImage images of range [0, 1].\n",
        "We transform them to Tensors of normalized range [-1, 1].\n",
        "\n"
      ]
    },
    {
      "cell_type": "code",
      "metadata": {
        "id": "D8Tjigo2poCl",
        "colab": {
          "base_uri": "https://localhost:8080/"
        },
        "outputId": "1c3d1a68-7df6-42fa-f239-d458f8bb11f9"
      },
      "source": [
        "transform = transforms.Compose(\n",
        "    [transforms.RandomHorizontalFlip(),  \n",
        "     transforms.RandomRotation(10),  \n",
        "     transforms.RandomAffine(0,shear=10,scale=(0.8,1.2)),  \n",
        "     transforms.ColorJitter(brightness=0.2,contrast=0.2,saturation=0.2),\n",
        "     transforms.ToTensor(),\n",
        "     transforms.Normalize((0.5, 0.5, 0.5), (0.5, 0.5, 0.5))])\n",
        "\n",
        "trainset = torchvision.datasets.CIFAR10(root='./data', train=True,\n",
        "                                        download=True, transform=transform)\n",
        "trainloader = torch.utils.data.DataLoader(trainset, batch_size=4,\n",
        "                                          shuffle=True, num_workers=2)\n",
        "\n",
        "testset = torchvision.datasets.CIFAR10(root='./data', train=False,\n",
        "                                       download=True, transform=transform)\n",
        "testloader = torch.utils.data.DataLoader(testset, batch_size=4,\n",
        "                                         shuffle=False, num_workers=2)\n",
        "\n",
        "classes = ('plane', 'car', 'bird', 'cat',\n",
        "           'deer', 'dog', 'frog', 'horse', 'ship', 'truck')"
      ],
      "execution_count": null,
      "outputs": [
        {
          "output_type": "stream",
          "text": [
            "Files already downloaded and verified\n",
            "Files already downloaded and verified\n"
          ],
          "name": "stdout"
        }
      ]
    },
    {
      "cell_type": "markdown",
      "metadata": {
        "id": "_cj433rtpoCn"
      },
      "source": [
        "Let us show some of the training images, for fun.\n",
        "\n"
      ]
    },
    {
      "cell_type": "code",
      "metadata": {
        "id": "daA7bADhpoCo",
        "colab": {
          "base_uri": "https://localhost:8080/",
          "height": 155
        },
        "outputId": "e2e083b7-ce5d-4d05-b73a-fc805cc9df3c"
      },
      "source": [
        "import matplotlib.pyplot as plt\n",
        "import numpy as np\n",
        "\n",
        "# functions to show an image\n",
        "\n",
        "\n",
        "def imshow(img):\n",
        "    img = img / 2 + 0.5     # unnormalize\n",
        "    npimg = img.numpy()\n",
        "    plt.imshow(np.transpose(npimg, (1, 2, 0)))\n",
        "\n",
        "\n",
        "# get some random training images\n",
        "dataiter = iter(trainloader)\n",
        "images, labels = dataiter.next()\n",
        "\n",
        "# show images\n",
        "imshow(torchvision.utils.make_grid(images))\n",
        "# print labels\n",
        "print(' '.join('%5s' % classes[labels[j]] for j in range(4)))"
      ],
      "execution_count": null,
      "outputs": [
        {
          "output_type": "stream",
          "text": [
            " ship  ship  ship  bird\n"
          ],
          "name": "stdout"
        },
        {
          "output_type": "display_data",
          "data": {
            "image/png": "[encoded data removed]",
            "text/plain": [
              "<Figure size 432x288 with 1 Axes>"
            ]
          },
          "metadata": {
            "tags": [],
            "needs_background": "light"
          }
        }
      ]
    },
    {
      "cell_type": "markdown",
      "metadata": {
        "id": "28OpHA_LpoCq"
      },
      "source": [
        "2. Define a Convolution Neural Network\n",
        "^^^^^^^^^^^^^^^^^^^^^^^^^^^^^^^^^^^^^^\n",
        "Copy the neural network from the Neural Networks section before and modify it to\n",
        "take 3-channel images (instead of 1-channel images as it was defined).\n",
        "\n"
      ]
    },
    {
      "cell_type": "code",
      "metadata": {
        "id": "alut-AVvLvh3"
      },
      "source": [
        "# depth wise convolutions\n",
        "# dilated convolutions\n",
        "\n",
        "import torch.nn.functional as F\n",
        "dropout_value = 0.1\n",
        "class Net(nn.Module):\n",
        "    def __init__(self):\n",
        "        super(Net, self).__init__()\n",
        "        # Input Block - 32x32x3 -> 10 \n",
        "        self.convblock1 = nn.Sequential(\n",
        "            nn.Conv2d(in_channels=3, out_channels=32, kernel_size=(3, 3), padding=1, bias=False),\n",
        "            nn.ReLU(),\n",
        "            nn.BatchNorm2d(32),\n",
        "            nn.Dropout(dropout_value)\n",
        "        ) # output_size = 32 ,Reseptive Field 3\n",
        "\n",
        "        # CONVOLUTION BLOCK 1\n",
        "        self.convblock2 = nn.Sequential(\n",
        "            nn.Conv2d(in_channels=32, out_channels=32, kernel_size=(3, 3), padding=1, bias=False),\n",
        "            nn.ReLU(),\n",
        "            nn.BatchNorm2d(32),\n",
        "            nn.Dropout(dropout_value)\n",
        "        ) ### output_size = 30 ,Reseptive Field 5\n",
        "\n",
        "        # TRANSITION BLOCK 1\n",
        "        self.pool1 = nn.MaxPool2d(2, 2) # output_size = 16 ,Reseptive Field 6\n",
        "\n",
        "        # CONVOLUTION BLOCK 2\n",
        "        self.convblock3 = nn.Sequential(\n",
        "            nn.Conv2d(in_channels=32, out_channels=64, kernel_size=(3, 3),dilation=2,padding = 1, bias=False),\n",
        "            nn.ReLU(),\n",
        "            nn.BatchNorm2d(64),\n",
        "            #nn.Dropout(dropout_value)\n",
        "        ) # output_size = 16 ,Reseptive Field 14\n",
        "\n",
        "        # TRANSITION BLOCK 2\n",
        "        self.pool2 = nn.MaxPool2d(2, 2) # output_size = 8 ,Reseptive Field 16\n",
        "\n",
        "        # CONVOLUTION BLOCK 3\n",
        "        self.depthwise = nn.Conv2d(64, 64, kernel_size=3, padding=1, groups=64)\n",
        "        self.pointwise = nn.Conv2d(64, 128, kernel_size=1)\n",
        "\n",
        "        ###output_size =8 , Reseptive field 24\n",
        "\n",
        "        # TRANSITION BLOCK 3\n",
        "        self.pool3 = nn.MaxPool2d(2, 2) # output_size = 4 ,Reseptive Field 28\n",
        "\n",
        "\n",
        "        # CONVOLUTION BLOCK 4\n",
        "        self.convblock5 = nn.Sequential(\n",
        "            nn.Conv2d(in_channels=128, out_channels=64, kernel_size=(3, 3),padding=1,bias=False),\n",
        "            nn.ReLU(),\n",
        "            nn.BatchNorm2d(64),\n",
        "            nn.Dropout(dropout_value)\n",
        "        ) # output_size = 4 ,Reseptive Field 44\n",
        "        self.convblock6 = nn.Sequential(\n",
        "            nn.Conv2d(in_channels=64, out_channels=32, kernel_size=(3, 3),padding=1,bias=False),\n",
        "            nn.ReLU(),\n",
        "            nn.BatchNorm2d(32),\n",
        "            nn.Dropout(dropout_value)\n",
        "        ) # output_size = 4 ,Reseptive Field 60\n",
        "\n",
        "        # OUTPUT BLOCK\n",
        "        self.gap = nn.Sequential(\n",
        "            nn.AvgPool2d(kernel_size=3)\n",
        "        ) # output_size = 1, Reseptive Field 60\n",
        "\n",
        "        self.convblock7 = nn.Sequential(\n",
        "              nn.Conv2d(in_channels=32, out_channels=10, kernel_size=(1, 1), padding=0, bias=False),\n",
        "            # nn.BatchNorm2d(10),\n",
        "            # nn.ReLU(),\n",
        "            # nn.Dropout(dropout_value)\n",
        "        ) # output_size = 1, Reseptive Field 54\n",
        "\n",
        "\n",
        "\n",
        "        self.dropout = nn.Dropout(dropout_value)\n",
        "\n",
        "    def forward(self, x):\n",
        "        x = self.convblock1(x)\n",
        "        x = self.convblock2(x)\n",
        "        x = self.pool1(x)\n",
        "        x = self.convblock3(x)\n",
        "        x = self.pool2(x)\n",
        "        x = self.depthwise(x)\n",
        "        x = self.pointwise(x)\n",
        "        x = self.pool3(x)\n",
        "        x = self.convblock5(x)      \n",
        "        x = self.convblock6(x)\n",
        "        x = self.gap(x)\n",
        "        x = self.convblock7(x)\n",
        "\n",
        "        x = x.view(-1, 10)\n",
        "        return F.log_softmax(x, dim=-1)\n",
        "#net = Net()"
      ],
      "execution_count": null,
      "outputs": []
    },
    {
      "cell_type": "code",
      "metadata": {
        "id": "Q1UiWa0hPpjj"
      },
      "source": [
        "##PoojaDi\r\n",
        "class Net(nn.Module):\r\n",
        "    def __init__(self):\r\n",
        "        super(Net, self).__init__()\r\n",
        "\r\n",
        "        # Input Block\r\n",
        "        self.convblock1 = nn.Sequential(\r\n",
        "            nn.Conv2d(in_channels=3, out_channels=32, kernel_size=(3, 3), padding=0, bias=False),\r\n",
        "            nn.ReLU(),\r\n",
        "            nn.BatchNorm2d(32)\r\n",
        "            \r\n",
        "        ) #i/p=32, output_size = 30  Rf 3 Jout - 1\r\n",
        "\r\n",
        "        # CONVOLUTION BLOCK 1\r\n",
        "        self.convblock2 = nn.Sequential(\r\n",
        "            nn.Conv2d(in_channels=32, out_channels=64, kernel_size=(3, 3), padding=2, bias=False),  \r\n",
        "            nn.ReLU(),\r\n",
        "            nn.BatchNorm2d(64)\r\n",
        "            \r\n",
        "        ) # i/p=30,output_size = 32 RF 5 Jout -1\r\n",
        "\r\n",
        "        self.convblock3 = nn.Sequential(\r\n",
        "            nn.Conv2d(in_channels=64, out_channels=64, kernel_size=(1, 1), padding=0, bias=False),    \r\n",
        "            \r\n",
        "        ) # i/p=30,output_size = 32 RF 5 Jout -1\r\n",
        "\r\n",
        "        # TRANSITION BLOCK 1\r\n",
        "        self.pool1 = nn.MaxPool2d(2, 2) # i./p=32,output_size = 16  RF 6 Jout - 2\r\n",
        "\r\n",
        "\r\n",
        "        # CONVOLUTION BLOCK 2\r\n",
        "        self.convblock4 = nn.Sequential(\r\n",
        "            nn.Conv2d(in_channels=64, out_channels=128, kernel_size=(3, 3), padding=0, bias=False,dilation=2),  ##dilation\r\n",
        "            nn.ReLU(),\r\n",
        "            nn.BatchNorm2d(128)\r\n",
        "           ) #i/p=16 output_size =12  RF 14 Jout - 2\r\n",
        "\r\n",
        "       # TRANSITION BLOCK 2\r\n",
        "        self.pool2 = nn.MaxPool2d(2, 2) #i/p=12 output_size = 6  RF 16 Jout - 4\r\n",
        "        \r\n",
        "          #CONVOLUTION BLOCK 3\r\n",
        "        self.convblock5 = nn.Sequential(\r\n",
        "            nn.Conv2d(in_channels=128, out_channels=128, kernel_size=(3, 3), padding=2, bias=False),\r\n",
        "            nn.ReLU(),\r\n",
        "            nn.BatchNorm2d(128)\r\n",
        "            ) # i/p=6,output_size =8  RF -24 ,Jout - 4\r\n",
        "\r\n",
        "        # TRANSITION BLOCK 3\r\n",
        "        self.pool3 = nn.MaxPool2d(2, 2) # i/p=8,output_size = 4  RF 32 Jout - 8\r\n",
        "\r\n",
        "       #CONVOLUTION BLOCK 4\r\n",
        "\r\n",
        "        self.depthwise = nn.Conv2d(128, 128, kernel_size=3, padding=1, groups=128)\r\n",
        "        self.pointwise = nn.Conv2d(128, 64, kernel_size=1)\r\n",
        "\r\n",
        "        # i/p=4,output_size =4  RF 48 Jout - 8\r\n",
        "\r\n",
        "\r\n",
        "        # OUTPUT BLOCK\r\n",
        "        self.gap = nn.Sequential(\r\n",
        "            nn.AvgPool2d(kernel_size=4)\r\n",
        "        ) # output_size = 1\r\n",
        "\r\n",
        "        self.convblock9 = nn.Sequential(\r\n",
        "            nn.Conv2d(in_channels=64, out_channels=10, kernel_size=(1, 1), padding=0, bias=False),\r\n",
        "            \r\n",
        "        ) \r\n",
        "\r\n",
        "\r\n",
        "    def forward(self, x):\r\n",
        "        x = self.convblock1(x)\r\n",
        "        x = self.convblock2(x)\r\n",
        "        x = self.convblock3(x)\r\n",
        "        x = self.pool1(x)\r\n",
        "        x = self.convblock4(x)\r\n",
        "        x = self.pool2(x)\r\n",
        "        x = self.convblock5(x)\r\n",
        "        x = self.pool3(x)\r\n",
        "        x = self.depthwise(x)\r\n",
        "        x = self.pointwise(x)\r\n",
        "        x = self.gap(x)        \r\n",
        "        x = self.convblock9(x)\r\n",
        "        x = x.view(-1, 10)\r\n",
        "\r\n",
        "        return F.log_softmax(x, dim=-1)"
      ],
      "execution_count": null,
      "outputs": []
    },
    {
      "cell_type": "code",
      "metadata": {
        "colab": {
          "base_uri": "https://localhost:8080/"
        },
        "id": "k5pR0_yRu5WL",
        "outputId": "d679e2ac-92eb-41dc-8e0e-11465ae3b4f1"
      },
      "source": [
        "!pip install torchsummary\n",
        "from torchsummary import summary\n",
        "use_cuda = torch.cuda.is_available()\n",
        "device = torch.device(\"cuda\" if use_cuda else \"cpu\")\n",
        "print(device)\n",
        "model = Net().to(device)\n",
        "summary(model, input_size=(3, 32, 32))"
      ],
      "execution_count": null,
      "outputs": [
        {
          "output_type": "stream",
          "text": [
            "Requirement already satisfied: torchsummary in /usr/local/lib/python3.6/dist-packages (1.5.1)\n",
            "cuda\n",
            "----------------------------------------------------------------\n",
            "        Layer (type)               Output Shape         Param #\n",
            "================================================================\n",
            "            Conv2d-1           [-1, 32, 30, 30]             864\n",
            "              ReLU-2           [-1, 32, 30, 30]               0\n",
            "       BatchNorm2d-3           [-1, 32, 30, 30]              64\n",
            "            Conv2d-4           [-1, 64, 32, 32]          18,432\n",
            "              ReLU-5           [-1, 64, 32, 32]               0\n",
            "       BatchNorm2d-6           [-1, 64, 32, 32]             128\n",
            "            Conv2d-7           [-1, 64, 32, 32]           4,096\n",
            "         MaxPool2d-8           [-1, 64, 16, 16]               0\n",
            "            Conv2d-9          [-1, 128, 12, 12]          73,728\n",
            "             ReLU-10          [-1, 128, 12, 12]               0\n",
            "      BatchNorm2d-11          [-1, 128, 12, 12]             256\n",
            "        MaxPool2d-12            [-1, 128, 6, 6]               0\n",
            "           Conv2d-13            [-1, 128, 8, 8]         147,456\n",
            "             ReLU-14            [-1, 128, 8, 8]               0\n",
            "      BatchNorm2d-15            [-1, 128, 8, 8]             256\n",
            "        MaxPool2d-16            [-1, 128, 4, 4]               0\n",
            "           Conv2d-17            [-1, 128, 4, 4]           1,280\n",
            "           Conv2d-18             [-1, 64, 4, 4]           8,256\n",
            "        AvgPool2d-19             [-1, 64, 1, 1]               0\n",
            "           Conv2d-20             [-1, 10, 1, 1]             640\n",
            "================================================================\n",
            "Total params: 255,456\n",
            "Trainable params: 255,456\n",
            "Non-trainable params: 0\n",
            "----------------------------------------------------------------\n",
            "Input size (MB): 0.01\n",
            "Forward/backward pass size (MB): 3.47\n",
            "Params size (MB): 0.97\n",
            "Estimated Total Size (MB): 4.45\n",
            "----------------------------------------------------------------\n"
          ],
          "name": "stdout"
        }
      ]
    },
    {
      "cell_type": "markdown",
      "metadata": {
        "id": "Wdw2NNCUpoCu"
      },
      "source": [
        "3. Define a Loss function and optimizer\n",
        "^^^^^^^^^^^^^^^^^^^^^^^^^^^^^^^^^^^^^^^\n",
        "Let's use a Classification Cross-Entropy loss and SGD with momentum.\n",
        "\n"
      ]
    },
    {
      "cell_type": "code",
      "metadata": {
        "id": "M4xBbDROpoCv"
      },
      "source": [
        "import torch.optim as optim\n",
        "\n",
        "criterion = nn.CrossEntropyLoss()\n",
        "optimizer = optim.Adam(model.parameters(), lr=0.001 )"
      ],
      "execution_count": null,
      "outputs": []
    },
    {
      "cell_type": "code",
      "metadata": {
        "id": "ynTqd-i7u006"
      },
      "source": [
        "images=images.to(device)\n",
        "outputs = model(images)"
      ],
      "execution_count": null,
      "outputs": []
    },
    {
      "cell_type": "markdown",
      "metadata": {
        "id": "O-odOrhdpoC2"
      },
      "source": [
        "4. Train the network\n",
        "^^^^^^^^^^^^^^^^^^^^\n",
        "\n",
        "This is when things start to get interesting.\n",
        "We simply have to loop over our data iterator, and feed the inputs to the\n",
        "network and optimize.\n",
        "\n"
      ]
    },
    {
      "cell_type": "code",
      "metadata": {
        "id": "Zfc6Ho2vJ_6x"
      },
      "source": [
        "def truth_checker(model,loader):\n",
        "  correct = 0\n",
        "  total = 0\n",
        "  with torch.no_grad():\n",
        "      for data in loader:\n",
        "          images, labels = data\n",
        "          images, labels = images.to(device), labels.to(device)\n",
        "          outputs = model(images)\n",
        "          _, predicted = torch.max(outputs.data, 1)\n",
        "          total += labels.size(0)\n",
        "          correct += (predicted == labels).sum().item()\n",
        "  return correct/total"
      ],
      "execution_count": null,
      "outputs": []
    },
    {
      "cell_type": "code",
      "metadata": {
        "id": "kkuRfo1IpoC3"
      },
      "source": [
        "class training_class:\n",
        "  def __init__(self,model,trainloader,testloader,epoch):\n",
        "    self.model = model\n",
        "    self.trainloader = trainloader\n",
        "    self.testloader = testloader\n",
        "    self.epoch = epoch\n",
        "\n",
        "  def fit(self):\n",
        "    for x_epoch in range(self.epoch):\n",
        "      running_loss  = 0.0\n",
        "      for i,data in enumerate(self.trainloader,0):\n",
        "        inputs, labels = data\n",
        "        inputs, labels = inputs.to(device), labels.to(device)\n",
        "        optimizer.zero_grad()\n",
        "        outputs = self.model(inputs)\n",
        "        ###Loss \n",
        "        loss = criterion(outputs, labels)\n",
        "        loss.backward()\n",
        "        optimizer.step()\n",
        "      ###Epoch Loss\n",
        "      test_check = truth_checker(self.model,self.testloader)\n",
        "      #train_check = truth_checker(self.model,self.trainloader)\n",
        "      print('epoch [%d] train accuracy LUL : test accuracy %.3f' % (x_epoch,test_check) )\n",
        "\n",
        "\n",
        "  def _save_model(self):\n",
        "    return self.model"
      ],
      "execution_count": null,
      "outputs": []
    },
    {
      "cell_type": "code",
      "metadata": {
        "id": "urgzD_o3Jg2W"
      },
      "source": [
        "clf = training_class(model,trainloader,testloader,50)"
      ],
      "execution_count": null,
      "outputs": []
    },
    {
      "cell_type": "code",
      "metadata": {
        "colab": {
          "base_uri": "https://localhost:8080/"
        },
        "id": "qz6SYKSQJh0f",
        "outputId": "c80ea4af-3b4e-450e-ddd1-f4df6ca46618"
      },
      "source": [
        "clf.fit()"
      ],
      "execution_count": null,
      "outputs": [
        {
          "output_type": "stream",
          "text": [
            "epoch [0] train accuracy LUL : test accuracy 0.570\n",
            "epoch [1] train accuracy LUL : test accuracy 0.616\n",
            "epoch [2] train accuracy LUL : test accuracy 0.651\n",
            "epoch [3] train accuracy LUL : test accuracy 0.672\n",
            "epoch [4] train accuracy LUL : test accuracy 0.692\n",
            "epoch [5] train accuracy LUL : test accuracy 0.702\n",
            "epoch [6] train accuracy LUL : test accuracy 0.710\n",
            "epoch [7] train accuracy LUL : test accuracy 0.724\n",
            "epoch [8] train accuracy LUL : test accuracy 0.721\n",
            "epoch [9] train accuracy LUL : test accuracy 0.733\n",
            "epoch [10] train accuracy LUL : test accuracy 0.736\n",
            "epoch [11] train accuracy LUL : test accuracy 0.732\n",
            "epoch [12] train accuracy LUL : test accuracy 0.745\n",
            "epoch [13] train accuracy LUL : test accuracy 0.760\n",
            "epoch [14] train accuracy LUL : test accuracy 0.751\n",
            "epoch [15] train accuracy LUL : test accuracy 0.757\n",
            "epoch [16] train accuracy LUL : test accuracy 0.749\n",
            "epoch [17] train accuracy LUL : test accuracy 0.756\n",
            "epoch [18] train accuracy LUL : test accuracy 0.767\n",
            "epoch [19] train accuracy LUL : test accuracy 0.764\n",
            "epoch [20] train accuracy LUL : test accuracy 0.768\n",
            "epoch [21] train accuracy LUL : test accuracy 0.755\n",
            "epoch [22] train accuracy LUL : test accuracy 0.771\n",
            "epoch [23] train accuracy LUL : test accuracy 0.767\n",
            "epoch [24] train accuracy LUL : test accuracy 0.777\n",
            "epoch [25] train accuracy LUL : test accuracy 0.779\n",
            "epoch [26] train accuracy LUL : test accuracy 0.777\n",
            "epoch [27] train accuracy LUL : test accuracy 0.770\n",
            "epoch [28] train accuracy LUL : test accuracy 0.777\n",
            "epoch [29] train accuracy LUL : test accuracy 0.784\n",
            "epoch [30] train accuracy LUL : test accuracy 0.779\n",
            "epoch [31] train accuracy LUL : test accuracy 0.784\n",
            "epoch [32] train accuracy LUL : test accuracy 0.787\n",
            "epoch [33] train accuracy LUL : test accuracy 0.784\n",
            "epoch [34] train accuracy LUL : test accuracy 0.783\n",
            "epoch [35] train accuracy LUL : test accuracy 0.792\n",
            "epoch [36] train accuracy LUL : test accuracy 0.783\n",
            "epoch [37] train accuracy LUL : test accuracy 0.783\n",
            "epoch [38] train accuracy LUL : test accuracy 0.781\n",
            "epoch [39] train accuracy LUL : test accuracy 0.789\n",
            "epoch [40] train accuracy LUL : test accuracy 0.781\n",
            "epoch [41] train accuracy LUL : test accuracy 0.792\n",
            "epoch [42] train accuracy LUL : test accuracy 0.787\n",
            "epoch [43] train accuracy LUL : test accuracy 0.791\n",
            "epoch [44] train accuracy LUL : test accuracy 0.790\n",
            "epoch [45] train accuracy LUL : test accuracy 0.789\n",
            "epoch [46] train accuracy LUL : test accuracy 0.795\n",
            "epoch [47] train accuracy LUL : test accuracy 0.786\n",
            "epoch [48] train accuracy LUL : test accuracy 0.791\n",
            "epoch [49] train accuracy LUL : test accuracy 0.796\n"
          ],
          "name": "stdout"
        }
      ]
    },
    {
      "cell_type": "markdown",
      "metadata": {
        "id": "YLrvL_fHpoC5"
      },
      "source": [
        "5. Test the network on the test data\n",
        "^^^^^^^^^^^^^^^^^^^^^^^^^^^^^^^^^^^^\n",
        "\n",
        "We have trained the network for 2 passes over the training dataset.\n",
        "But we need to check if the network has learnt anything at all.\n",
        "\n",
        "We will check this by predicting the class label that the neural network\n",
        "outputs, and checking it against the ground-truth. If the prediction is\n",
        "correct, we add the sample to the list of correct predictions.\n",
        "\n",
        "Okay, first step. Let us display an image from the test set to get familiar.\n",
        "\n"
      ]
    },
    {
      "cell_type": "code",
      "metadata": {
        "id": "nizbsvw9poC6",
        "colab": {
          "base_uri": "https://localhost:8080/",
          "height": 155
        },
        "outputId": "1320a598-d0ed-4e78-a0d1-c3f145d3c9a0"
      },
      "source": [
        "dataiter = iter(testloader)\n",
        "images, labels = dataiter.next()\n",
        "\n",
        "# print images\n",
        "imshow(torchvision.utils.make_grid(images))\n",
        "print('GroundTruth: ', ' '.join('%5s' % classes[labels[j]] for j in range(4)))"
      ],
      "execution_count": null,
      "outputs": [
        {
          "output_type": "stream",
          "text": [
            "GroundTruth:    cat  ship  ship plane\n"
          ],
          "name": "stdout"
        },
        {
          "output_type": "display_data",
          "data": {
            "image/png": "[encoded data removed]",
            "text/plain": [
              "<Figure size 432x288 with 1 Axes>"
            ]
          },
          "metadata": {
            "tags": [],
            "needs_background": "light"
          }
        }
      ]
    },
    {
      "cell_type": "markdown",
      "metadata": {
        "id": "DAx4QPHVpoC8"
      },
      "source": [
        "Okay, now let us see what the neural network thinks these examples above are:\n",
        "\n"
      ]
    },
    {
      "cell_type": "code",
      "metadata": {
        "id": "HVLjlssWpoC9"
      },
      "source": [
        "images = images.to(device)\n",
        "outputs = model(images)"
      ],
      "execution_count": null,
      "outputs": []
    },
    {
      "cell_type": "markdown",
      "metadata": {
        "id": "u8OTHZEApoC_"
      },
      "source": [
        "The outputs are energies for the 10 classes.\n",
        "Higher the energy for a class, the more the network\n",
        "thinks that the image is of the particular class.\n",
        "So, let's get the index of the highest energy:\n",
        "\n"
      ]
    },
    {
      "cell_type": "code",
      "metadata": {
        "id": "ABRIDW3lpoDA",
        "colab": {
          "base_uri": "https://localhost:8080/"
        },
        "outputId": "1467ea94-626d-4e14-fbe9-60ef7f235f3f"
      },
      "source": [
        "_, predicted = torch.max(outputs, 1)\n",
        "\n",
        "print('Predicted: ', ' '.join('%5s' % classes[predicted[j]]\n",
        "                              for j in range(4)))"
      ],
      "execution_count": null,
      "outputs": [
        {
          "output_type": "stream",
          "text": [
            "Predicted:    cat  ship  ship plane\n"
          ],
          "name": "stdout"
        }
      ]
    },
    {
      "cell_type": "markdown",
      "metadata": {
        "id": "2TV0TXL1poDC"
      },
      "source": [
        "The results seem pretty good.\n",
        "\n",
        "Let us look at how the network performs on the whole dataset.\n",
        "\n"
      ]
    },
    {
      "cell_type": "code",
      "metadata": {
        "id": "SZ4-5CESpoDD",
        "colab": {
          "base_uri": "https://localhost:8080/"
        },
        "outputId": "e03353f6-9845-4678-c829-413e11e923c2"
      },
      "source": [
        "correct = 0\n",
        "total = 0\n",
        "\n",
        "with torch.no_grad():\n",
        "    for data in testloader:\n",
        "        images, labels = data\n",
        "        images = images.to(device)\n",
        "        labels = labels.to(device)\n",
        "        outputs = model(images)\n",
        "        _, predicted = torch.max(outputs.data, 1)\n",
        "        total += labels.size(0)\n",
        "        correct += (predicted == labels).sum().item()\n",
        "\n",
        "print('Accuracy of the network on the 10000 test images: %d %%' % (\n",
        "    100 * correct / total))"
      ],
      "execution_count": null,
      "outputs": [
        {
          "output_type": "stream",
          "text": [
            "Accuracy of the network on the 10000 test images: 79 %\n"
          ],
          "name": "stdout"
        }
      ]
    },
    {
      "cell_type": "markdown",
      "metadata": {
        "id": "eDdwPBl8poDF"
      },
      "source": [
        "That looks waaay better than chance, which is 10% accuracy (randomly picking\n",
        "a class out of 10 classes).\n",
        "Seems like the network learnt something.\n",
        "\n",
        "Hmmm, what are the classes that performed well, and the classes that did\n",
        "not perform well:\n",
        "\n"
      ]
    },
    {
      "cell_type": "code",
      "metadata": {
        "id": "pDNFuDEDpoDG",
        "colab": {
          "base_uri": "https://localhost:8080/"
        },
        "outputId": "dde836a6-ac3f-4544-92c7-1ea13692bf97"
      },
      "source": [
        "class_correct = list(0. for i in range(10))\n",
        "class_total = list(0. for i in range(10))\n",
        "with torch.no_grad():\n",
        "    for data in testloader:\n",
        "        images, labels = data\n",
        "        images = images.to(device)\n",
        "        labels = labels.to(device)\n",
        "        outputs = model(images)\n",
        "        _, predicted = torch.max(outputs, 1)\n",
        "        c = (predicted == labels).squeeze()\n",
        "        for i in range(4):\n",
        "            label = labels[i]\n",
        "            class_correct[label] += c[i].item()\n",
        "            class_total[label] += 1\n",
        "\n",
        "\n",
        "for i in range(10):\n",
        "    print('Accuracy of %5s : %2d %%' % (\n",
        "        classes[i], 100 * class_correct[i] / class_total[i]))"
      ],
      "execution_count": null,
      "outputs": [
        {
          "output_type": "stream",
          "text": [
            "Accuracy of plane : 83 %\n",
            "Accuracy of   car : 84 %\n",
            "Accuracy of  bird : 67 %\n",
            "Accuracy of   cat : 74 %\n",
            "Accuracy of  deer : 81 %\n",
            "Accuracy of   dog : 52 %\n",
            "Accuracy of  frog : 87 %\n",
            "Accuracy of horse : 83 %\n",
            "Accuracy of  ship : 89 %\n",
            "Accuracy of truck : 87 %\n"
          ],
          "name": "stdout"
        }
      ]
    },
    {
      "cell_type": "code",
      "metadata": {
        "id": "-uCkbFw1NRQ6"
      },
      "source": [
        ""
      ],
      "execution_count": null,
      "outputs": []
    }
  ]
}