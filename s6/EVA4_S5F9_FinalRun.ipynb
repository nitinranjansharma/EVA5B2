{
  "nbformat": 4,
  "nbformat_minor": 0,
  "metadata": {
    "colab": {
      "name": "EVA4_S5F9_FinalRun.ipynb",
      "provenance": [],
      "collapsed_sections": [],
      "include_colab_link": true
    },
    "kernelspec": {
      "display_name": "Python 3",
      "name": "python3"
    },
    "accelerator": "GPU",
    "widgets": {
      "application/vnd.jupyter.widget-state+json": {
        "4fbf7a77f99643fba107e1254244822a": {
          "model_module": "@jupyter-widgets/controls",
          "model_name": "HBoxModel",
          "state": {
            "_view_name": "HBoxView",
            "_dom_classes": [],
            "_model_name": "HBoxModel",
            "_view_module": "@jupyter-widgets/controls",
            "_model_module_version": "1.5.0",
            "_view_count": null,
            "_view_module_version": "1.5.0",
            "box_style": "",
            "layout": "IPY_MODEL_a0b29efa42e145868f0f60b95735a09a",
            "_model_module": "@jupyter-widgets/controls",
            "children": [
              "IPY_MODEL_eb7a9907177449ce954e4655cd196bbc",
              "IPY_MODEL_9fe956fc3aa0432c972676f294da72ca"
            ]
          }
        },
        "a0b29efa42e145868f0f60b95735a09a": {
          "model_module": "@jupyter-widgets/base",
          "model_name": "LayoutModel",
          "state": {
            "_view_name": "LayoutView",
            "grid_template_rows": null,
            "right": null,
            "justify_content": null,
            "_view_module": "@jupyter-widgets/base",
            "overflow": null,
            "_model_module_version": "1.2.0",
            "_view_count": null,
            "flex_flow": null,
            "width": null,
            "min_width": null,
            "border": null,
            "align_items": null,
            "bottom": null,
            "_model_module": "@jupyter-widgets/base",
            "top": null,
            "grid_column": null,
            "overflow_y": null,
            "overflow_x": null,
            "grid_auto_flow": null,
            "grid_area": null,
            "grid_template_columns": null,
            "flex": null,
            "_model_name": "LayoutModel",
            "justify_items": null,
            "grid_row": null,
            "max_height": null,
            "align_content": null,
            "visibility": null,
            "align_self": null,
            "height": null,
            "min_height": null,
            "padding": null,
            "grid_auto_rows": null,
            "grid_gap": null,
            "max_width": null,
            "order": null,
            "_view_module_version": "1.2.0",
            "grid_template_areas": null,
            "object_position": null,
            "object_fit": null,
            "grid_auto_columns": null,
            "margin": null,
            "display": null,
            "left": null
          }
        },
        "eb7a9907177449ce954e4655cd196bbc": {
          "model_module": "@jupyter-widgets/controls",
          "model_name": "FloatProgressModel",
          "state": {
            "_view_name": "ProgressView",
            "style": "IPY_MODEL_20bf63035c0f421ab2faa01d2406c64b",
            "_dom_classes": [],
            "description": "",
            "_model_name": "FloatProgressModel",
            "bar_style": "info",
            "max": 1,
            "_view_module": "@jupyter-widgets/controls",
            "_model_module_version": "1.5.0",
            "value": 1,
            "_view_count": null,
            "_view_module_version": "1.5.0",
            "orientation": "horizontal",
            "min": 0,
            "description_tooltip": null,
            "_model_module": "@jupyter-widgets/controls",
            "layout": "IPY_MODEL_521d4f0c63314aa7b102657a8131feaf"
          }
        },
        "9fe956fc3aa0432c972676f294da72ca": {
          "model_module": "@jupyter-widgets/controls",
          "model_name": "HTMLModel",
          "state": {
            "_view_name": "HTMLView",
            "style": "IPY_MODEL_1f91551e29644d038e4fc633f39a00d5",
            "_dom_classes": [],
            "description": "",
            "_model_name": "HTMLModel",
            "placeholder": "​",
            "_view_module": "@jupyter-widgets/controls",
            "_model_module_version": "1.5.0",
            "value": " 9920512/? [00:19&lt;00:00, 1561926.73it/s]",
            "_view_count": null,
            "_view_module_version": "1.5.0",
            "description_tooltip": null,
            "_model_module": "@jupyter-widgets/controls",
            "layout": "IPY_MODEL_3d46e7021bcf4659a6b2bca7db88cd38"
          }
        },
        "20bf63035c0f421ab2faa01d2406c64b": {
          "model_module": "@jupyter-widgets/controls",
          "model_name": "ProgressStyleModel",
          "state": {
            "_view_name": "StyleView",
            "_model_name": "ProgressStyleModel",
            "description_width": "initial",
            "_view_module": "@jupyter-widgets/base",
            "_model_module_version": "1.5.0",
            "_view_count": null,
            "_view_module_version": "1.2.0",
            "bar_color": null,
            "_model_module": "@jupyter-widgets/controls"
          }
        },
        "521d4f0c63314aa7b102657a8131feaf": {
          "model_module": "@jupyter-widgets/base",
          "model_name": "LayoutModel",
          "state": {
            "_view_name": "LayoutView",
            "grid_template_rows": null,
            "right": null,
            "justify_content": null,
            "_view_module": "@jupyter-widgets/base",
            "overflow": null,
            "_model_module_version": "1.2.0",
            "_view_count": null,
            "flex_flow": null,
            "width": null,
            "min_width": null,
            "border": null,
            "align_items": null,
            "bottom": null,
            "_model_module": "@jupyter-widgets/base",
            "top": null,
            "grid_column": null,
            "overflow_y": null,
            "overflow_x": null,
            "grid_auto_flow": null,
            "grid_area": null,
            "grid_template_columns": null,
            "flex": null,
            "_model_name": "LayoutModel",
            "justify_items": null,
            "grid_row": null,
            "max_height": null,
            "align_content": null,
            "visibility": null,
            "align_self": null,
            "height": null,
            "min_height": null,
            "padding": null,
            "grid_auto_rows": null,
            "grid_gap": null,
            "max_width": null,
            "order": null,
            "_view_module_version": "1.2.0",
            "grid_template_areas": null,
            "object_position": null,
            "object_fit": null,
            "grid_auto_columns": null,
            "margin": null,
            "display": null,
            "left": null
          }
        },
        "1f91551e29644d038e4fc633f39a00d5": {
          "model_module": "@jupyter-widgets/controls",
          "model_name": "DescriptionStyleModel",
          "state": {
            "_view_name": "StyleView",
            "_model_name": "DescriptionStyleModel",
            "description_width": "",
            "_view_module": "@jupyter-widgets/base",
            "_model_module_version": "1.5.0",
            "_view_count": null,
            "_view_module_version": "1.2.0",
            "_model_module": "@jupyter-widgets/controls"
          }
        },
        "3d46e7021bcf4659a6b2bca7db88cd38": {
          "model_module": "@jupyter-widgets/base",
          "model_name": "LayoutModel",
          "state": {
            "_view_name": "LayoutView",
            "grid_template_rows": null,
            "right": null,
            "justify_content": null,
            "_view_module": "@jupyter-widgets/base",
            "overflow": null,
            "_model_module_version": "1.2.0",
            "_view_count": null,
            "flex_flow": null,
            "width": null,
            "min_width": null,
            "border": null,
            "align_items": null,
            "bottom": null,
            "_model_module": "@jupyter-widgets/base",
            "top": null,
            "grid_column": null,
            "overflow_y": null,
            "overflow_x": null,
            "grid_auto_flow": null,
            "grid_area": null,
            "grid_template_columns": null,
            "flex": null,
            "_model_name": "LayoutModel",
            "justify_items": null,
            "grid_row": null,
            "max_height": null,
            "align_content": null,
            "visibility": null,
            "align_self": null,
            "height": null,
            "min_height": null,
            "padding": null,
            "grid_auto_rows": null,
            "grid_gap": null,
            "max_width": null,
            "order": null,
            "_view_module_version": "1.2.0",
            "grid_template_areas": null,
            "object_position": null,
            "object_fit": null,
            "grid_auto_columns": null,
            "margin": null,
            "display": null,
            "left": null
          }
        },
        "6dd41de5e4bc436aae538865e154cb97": {
          "model_module": "@jupyter-widgets/controls",
          "model_name": "HBoxModel",
          "state": {
            "_view_name": "HBoxView",
            "_dom_classes": [],
            "_model_name": "HBoxModel",
            "_view_module": "@jupyter-widgets/controls",
            "_model_module_version": "1.5.0",
            "_view_count": null,
            "_view_module_version": "1.5.0",
            "box_style": "",
            "layout": "IPY_MODEL_bcd29df0ec654aa29fb13f769a41a105",
            "_model_module": "@jupyter-widgets/controls",
            "children": [
              "IPY_MODEL_b31c35c2ee6541d6b3c24067602b7519",
              "IPY_MODEL_e0d23e703eff45c986d44271ebd085b7"
            ]
          }
        },
        "bcd29df0ec654aa29fb13f769a41a105": {
          "model_module": "@jupyter-widgets/base",
          "model_name": "LayoutModel",
          "state": {
            "_view_name": "LayoutView",
            "grid_template_rows": null,
            "right": null,
            "justify_content": null,
            "_view_module": "@jupyter-widgets/base",
            "overflow": null,
            "_model_module_version": "1.2.0",
            "_view_count": null,
            "flex_flow": null,
            "width": null,
            "min_width": null,
            "border": null,
            "align_items": null,
            "bottom": null,
            "_model_module": "@jupyter-widgets/base",
            "top": null,
            "grid_column": null,
            "overflow_y": null,
            "overflow_x": null,
            "grid_auto_flow": null,
            "grid_area": null,
            "grid_template_columns": null,
            "flex": null,
            "_model_name": "LayoutModel",
            "justify_items": null,
            "grid_row": null,
            "max_height": null,
            "align_content": null,
            "visibility": null,
            "align_self": null,
            "height": null,
            "min_height": null,
            "padding": null,
            "grid_auto_rows": null,
            "grid_gap": null,
            "max_width": null,
            "order": null,
            "_view_module_version": "1.2.0",
            "grid_template_areas": null,
            "object_position": null,
            "object_fit": null,
            "grid_auto_columns": null,
            "margin": null,
            "display": null,
            "left": null
          }
        },
        "b31c35c2ee6541d6b3c24067602b7519": {
          "model_module": "@jupyter-widgets/controls",
          "model_name": "FloatProgressModel",
          "state": {
            "_view_name": "ProgressView",
            "style": "IPY_MODEL_38b10100c0784b75bca4e8696ceca33a",
            "_dom_classes": [],
            "description": "",
            "_model_name": "FloatProgressModel",
            "bar_style": "success",
            "max": 1,
            "_view_module": "@jupyter-widgets/controls",
            "_model_module_version": "1.5.0",
            "value": 1,
            "_view_count": null,
            "_view_module_version": "1.5.0",
            "orientation": "horizontal",
            "min": 0,
            "description_tooltip": null,
            "_model_module": "@jupyter-widgets/controls",
            "layout": "IPY_MODEL_89b7f6d728a54c8da0ca7d8138c644ba"
          }
        },
        "e0d23e703eff45c986d44271ebd085b7": {
          "model_module": "@jupyter-widgets/controls",
          "model_name": "HTMLModel",
          "state": {
            "_view_name": "HTMLView",
            "style": "IPY_MODEL_33ba3c38c8e24970adc1a1df66d66c73",
            "_dom_classes": [],
            "description": "",
            "_model_name": "HTMLModel",
            "placeholder": "​",
            "_view_module": "@jupyter-widgets/controls",
            "_model_module_version": "1.5.0",
            "value": " 32768/? [00:00&lt;00:00, 45952.63it/s]",
            "_view_count": null,
            "_view_module_version": "1.5.0",
            "description_tooltip": null,
            "_model_module": "@jupyter-widgets/controls",
            "layout": "IPY_MODEL_fbfe46a41a1947c3a416834e273ff186"
          }
        },
        "38b10100c0784b75bca4e8696ceca33a": {
          "model_module": "@jupyter-widgets/controls",
          "model_name": "ProgressStyleModel",
          "state": {
            "_view_name": "StyleView",
            "_model_name": "ProgressStyleModel",
            "description_width": "initial",
            "_view_module": "@jupyter-widgets/base",
            "_model_module_version": "1.5.0",
            "_view_count": null,
            "_view_module_version": "1.2.0",
            "bar_color": null,
            "_model_module": "@jupyter-widgets/controls"
          }
        },
        "89b7f6d728a54c8da0ca7d8138c644ba": {
          "model_module": "@jupyter-widgets/base",
          "model_name": "LayoutModel",
          "state": {
            "_view_name": "LayoutView",
            "grid_template_rows": null,
            "right": null,
            "justify_content": null,
            "_view_module": "@jupyter-widgets/base",
            "overflow": null,
            "_model_module_version": "1.2.0",
            "_view_count": null,
            "flex_flow": null,
            "width": null,
            "min_width": null,
            "border": null,
            "align_items": null,
            "bottom": null,
            "_model_module": "@jupyter-widgets/base",
            "top": null,
            "grid_column": null,
            "overflow_y": null,
            "overflow_x": null,
            "grid_auto_flow": null,
            "grid_area": null,
            "grid_template_columns": null,
            "flex": null,
            "_model_name": "LayoutModel",
            "justify_items": null,
            "grid_row": null,
            "max_height": null,
            "align_content": null,
            "visibility": null,
            "align_self": null,
            "height": null,
            "min_height": null,
            "padding": null,
            "grid_auto_rows": null,
            "grid_gap": null,
            "max_width": null,
            "order": null,
            "_view_module_version": "1.2.0",
            "grid_template_areas": null,
            "object_position": null,
            "object_fit": null,
            "grid_auto_columns": null,
            "margin": null,
            "display": null,
            "left": null
          }
        },
        "33ba3c38c8e24970adc1a1df66d66c73": {
          "model_module": "@jupyter-widgets/controls",
          "model_name": "DescriptionStyleModel",
          "state": {
            "_view_name": "StyleView",
            "_model_name": "DescriptionStyleModel",
            "description_width": "",
            "_view_module": "@jupyter-widgets/base",
            "_model_module_version": "1.5.0",
            "_view_count": null,
            "_view_module_version": "1.2.0",
            "_model_module": "@jupyter-widgets/controls"
          }
        },
        "fbfe46a41a1947c3a416834e273ff186": {
          "model_module": "@jupyter-widgets/base",
          "model_name": "LayoutModel",
          "state": {
            "_view_name": "LayoutView",
            "grid_template_rows": null,
            "right": null,
            "justify_content": null,
            "_view_module": "@jupyter-widgets/base",
            "overflow": null,
            "_model_module_version": "1.2.0",
            "_view_count": null,
            "flex_flow": null,
            "width": null,
            "min_width": null,
            "border": null,
            "align_items": null,
            "bottom": null,
            "_model_module": "@jupyter-widgets/base",
            "top": null,
            "grid_column": null,
            "overflow_y": null,
            "overflow_x": null,
            "grid_auto_flow": null,
            "grid_area": null,
            "grid_template_columns": null,
            "flex": null,
            "_model_name": "LayoutModel",
            "justify_items": null,
            "grid_row": null,
            "max_height": null,
            "align_content": null,
            "visibility": null,
            "align_self": null,
            "height": null,
            "min_height": null,
            "padding": null,
            "grid_auto_rows": null,
            "grid_gap": null,
            "max_width": null,
            "order": null,
            "_view_module_version": "1.2.0",
            "grid_template_areas": null,
            "object_position": null,
            "object_fit": null,
            "grid_auto_columns": null,
            "margin": null,
            "display": null,
            "left": null
          }
        },
        "265c15d3add941fb8626ad1c31d72581": {
          "model_module": "@jupyter-widgets/controls",
          "model_name": "HBoxModel",
          "state": {
            "_view_name": "HBoxView",
            "_dom_classes": [],
            "_model_name": "HBoxModel",
            "_view_module": "@jupyter-widgets/controls",
            "_model_module_version": "1.5.0",
            "_view_count": null,
            "_view_module_version": "1.5.0",
            "box_style": "",
            "layout": "IPY_MODEL_0e34025685c34c7e82c017bdbec3a41a",
            "_model_module": "@jupyter-widgets/controls",
            "children": [
              "IPY_MODEL_164c2ceefd45444dac86e7f55f1250d3",
              "IPY_MODEL_38223b1b287843c886e576767e30b160"
            ]
          }
        },
        "0e34025685c34c7e82c017bdbec3a41a": {
          "model_module": "@jupyter-widgets/base",
          "model_name": "LayoutModel",
          "state": {
            "_view_name": "LayoutView",
            "grid_template_rows": null,
            "right": null,
            "justify_content": null,
            "_view_module": "@jupyter-widgets/base",
            "overflow": null,
            "_model_module_version": "1.2.0",
            "_view_count": null,
            "flex_flow": null,
            "width": null,
            "min_width": null,
            "border": null,
            "align_items": null,
            "bottom": null,
            "_model_module": "@jupyter-widgets/base",
            "top": null,
            "grid_column": null,
            "overflow_y": null,
            "overflow_x": null,
            "grid_auto_flow": null,
            "grid_area": null,
            "grid_template_columns": null,
            "flex": null,
            "_model_name": "LayoutModel",
            "justify_items": null,
            "grid_row": null,
            "max_height": null,
            "align_content": null,
            "visibility": null,
            "align_self": null,
            "height": null,
            "min_height": null,
            "padding": null,
            "grid_auto_rows": null,
            "grid_gap": null,
            "max_width": null,
            "order": null,
            "_view_module_version": "1.2.0",
            "grid_template_areas": null,
            "object_position": null,
            "object_fit": null,
            "grid_auto_columns": null,
            "margin": null,
            "display": null,
            "left": null
          }
        },
        "164c2ceefd45444dac86e7f55f1250d3": {
          "model_module": "@jupyter-widgets/controls",
          "model_name": "FloatProgressModel",
          "state": {
            "_view_name": "ProgressView",
            "style": "IPY_MODEL_6db52c093e0e48c4a29deaa0a0287360",
            "_dom_classes": [],
            "description": "",
            "_model_name": "FloatProgressModel",
            "bar_style": "info",
            "max": 1,
            "_view_module": "@jupyter-widgets/controls",
            "_model_module_version": "1.5.0",
            "value": 1,
            "_view_count": null,
            "_view_module_version": "1.5.0",
            "orientation": "horizontal",
            "min": 0,
            "description_tooltip": null,
            "_model_module": "@jupyter-widgets/controls",
            "layout": "IPY_MODEL_ce2fc2a91ace44d99b93f809d8fa5c56"
          }
        },
        "38223b1b287843c886e576767e30b160": {
          "model_module": "@jupyter-widgets/controls",
          "model_name": "HTMLModel",
          "state": {
            "_view_name": "HTMLView",
            "style": "IPY_MODEL_2bb15a0044b5429bb20861cc192785cc",
            "_dom_classes": [],
            "description": "",
            "_model_name": "HTMLModel",
            "placeholder": "​",
            "_view_module": "@jupyter-widgets/controls",
            "_model_module_version": "1.5.0",
            "value": " 1654784/? [00:16&lt;00:00, 289338.28it/s]",
            "_view_count": null,
            "_view_module_version": "1.5.0",
            "description_tooltip": null,
            "_model_module": "@jupyter-widgets/controls",
            "layout": "IPY_MODEL_c6522d5848304018ac7d63f8d9442299"
          }
        },
        "6db52c093e0e48c4a29deaa0a0287360": {
          "model_module": "@jupyter-widgets/controls",
          "model_name": "ProgressStyleModel",
          "state": {
            "_view_name": "StyleView",
            "_model_name": "ProgressStyleModel",
            "description_width": "initial",
            "_view_module": "@jupyter-widgets/base",
            "_model_module_version": "1.5.0",
            "_view_count": null,
            "_view_module_version": "1.2.0",
            "bar_color": null,
            "_model_module": "@jupyter-widgets/controls"
          }
        },
        "ce2fc2a91ace44d99b93f809d8fa5c56": {
          "model_module": "@jupyter-widgets/base",
          "model_name": "LayoutModel",
          "state": {
            "_view_name": "LayoutView",
            "grid_template_rows": null,
            "right": null,
            "justify_content": null,
            "_view_module": "@jupyter-widgets/base",
            "overflow": null,
            "_model_module_version": "1.2.0",
            "_view_count": null,
            "flex_flow": null,
            "width": null,
            "min_width": null,
            "border": null,
            "align_items": null,
            "bottom": null,
            "_model_module": "@jupyter-widgets/base",
            "top": null,
            "grid_column": null,
            "overflow_y": null,
            "overflow_x": null,
            "grid_auto_flow": null,
            "grid_area": null,
            "grid_template_columns": null,
            "flex": null,
            "_model_name": "LayoutModel",
            "justify_items": null,
            "grid_row": null,
            "max_height": null,
            "align_content": null,
            "visibility": null,
            "align_self": null,
            "height": null,
            "min_height": null,
            "padding": null,
            "grid_auto_rows": null,
            "grid_gap": null,
            "max_width": null,
            "order": null,
            "_view_module_version": "1.2.0",
            "grid_template_areas": null,
            "object_position": null,
            "object_fit": null,
            "grid_auto_columns": null,
            "margin": null,
            "display": null,
            "left": null
          }
        },
        "2bb15a0044b5429bb20861cc192785cc": {
          "model_module": "@jupyter-widgets/controls",
          "model_name": "DescriptionStyleModel",
          "state": {
            "_view_name": "StyleView",
            "_model_name": "DescriptionStyleModel",
            "description_width": "",
            "_view_module": "@jupyter-widgets/base",
            "_model_module_version": "1.5.0",
            "_view_count": null,
            "_view_module_version": "1.2.0",
            "_model_module": "@jupyter-widgets/controls"
          }
        },
        "c6522d5848304018ac7d63f8d9442299": {
          "model_module": "@jupyter-widgets/base",
          "model_name": "LayoutModel",
          "state": {
            "_view_name": "LayoutView",
            "grid_template_rows": null,
            "right": null,
            "justify_content": null,
            "_view_module": "@jupyter-widgets/base",
            "overflow": null,
            "_model_module_version": "1.2.0",
            "_view_count": null,
            "flex_flow": null,
            "width": null,
            "min_width": null,
            "border": null,
            "align_items": null,
            "bottom": null,
            "_model_module": "@jupyter-widgets/base",
            "top": null,
            "grid_column": null,
            "overflow_y": null,
            "overflow_x": null,
            "grid_auto_flow": null,
            "grid_area": null,
            "grid_template_columns": null,
            "flex": null,
            "_model_name": "LayoutModel",
            "justify_items": null,
            "grid_row": null,
            "max_height": null,
            "align_content": null,
            "visibility": null,
            "align_self": null,
            "height": null,
            "min_height": null,
            "padding": null,
            "grid_auto_rows": null,
            "grid_gap": null,
            "max_width": null,
            "order": null,
            "_view_module_version": "1.2.0",
            "grid_template_areas": null,
            "object_position": null,
            "object_fit": null,
            "grid_auto_columns": null,
            "margin": null,
            "display": null,
            "left": null
          }
        },
        "8c3ea714db6a435e8a0494898eb07758": {
          "model_module": "@jupyter-widgets/controls",
          "model_name": "HBoxModel",
          "state": {
            "_view_name": "HBoxView",
            "_dom_classes": [],
            "_model_name": "HBoxModel",
            "_view_module": "@jupyter-widgets/controls",
            "_model_module_version": "1.5.0",
            "_view_count": null,
            "_view_module_version": "1.5.0",
            "box_style": "",
            "layout": "IPY_MODEL_67c5a80c5dff43acb4832764f8e2bab9",
            "_model_module": "@jupyter-widgets/controls",
            "children": [
              "IPY_MODEL_161048024486446483cba487c911272d",
              "IPY_MODEL_badb391caf49435c8652809312864e5b"
            ]
          }
        },
        "67c5a80c5dff43acb4832764f8e2bab9": {
          "model_module": "@jupyter-widgets/base",
          "model_name": "LayoutModel",
          "state": {
            "_view_name": "LayoutView",
            "grid_template_rows": null,
            "right": null,
            "justify_content": null,
            "_view_module": "@jupyter-widgets/base",
            "overflow": null,
            "_model_module_version": "1.2.0",
            "_view_count": null,
            "flex_flow": null,
            "width": null,
            "min_width": null,
            "border": null,
            "align_items": null,
            "bottom": null,
            "_model_module": "@jupyter-widgets/base",
            "top": null,
            "grid_column": null,
            "overflow_y": null,
            "overflow_x": null,
            "grid_auto_flow": null,
            "grid_area": null,
            "grid_template_columns": null,
            "flex": null,
            "_model_name": "LayoutModel",
            "justify_items": null,
            "grid_row": null,
            "max_height": null,
            "align_content": null,
            "visibility": null,
            "align_self": null,
            "height": null,
            "min_height": null,
            "padding": null,
            "grid_auto_rows": null,
            "grid_gap": null,
            "max_width": null,
            "order": null,
            "_view_module_version": "1.2.0",
            "grid_template_areas": null,
            "object_position": null,
            "object_fit": null,
            "grid_auto_columns": null,
            "margin": null,
            "display": null,
            "left": null
          }
        },
        "161048024486446483cba487c911272d": {
          "model_module": "@jupyter-widgets/controls",
          "model_name": "FloatProgressModel",
          "state": {
            "_view_name": "ProgressView",
            "style": "IPY_MODEL_202ef952406f47c39afc231287433b8f",
            "_dom_classes": [],
            "description": "",
            "_model_name": "FloatProgressModel",
            "bar_style": "success",
            "max": 1,
            "_view_module": "@jupyter-widgets/controls",
            "_model_module_version": "1.5.0",
            "value": 1,
            "_view_count": null,
            "_view_module_version": "1.5.0",
            "orientation": "horizontal",
            "min": 0,
            "description_tooltip": null,
            "_model_module": "@jupyter-widgets/controls",
            "layout": "IPY_MODEL_27b1958fb129430a8966568ea5367ab3"
          }
        },
        "badb391caf49435c8652809312864e5b": {
          "model_module": "@jupyter-widgets/controls",
          "model_name": "HTMLModel",
          "state": {
            "_view_name": "HTMLView",
            "style": "IPY_MODEL_9255bc92b39a4cd9ab894dd671e2a86b",
            "_dom_classes": [],
            "description": "",
            "_model_name": "HTMLModel",
            "placeholder": "​",
            "_view_module": "@jupyter-widgets/controls",
            "_model_module_version": "1.5.0",
            "value": " 8192/? [00:00&lt;00:00, 10397.78it/s]",
            "_view_count": null,
            "_view_module_version": "1.5.0",
            "description_tooltip": null,
            "_model_module": "@jupyter-widgets/controls",
            "layout": "IPY_MODEL_96d7c30dbe7c4303baed0590a55a078e"
          }
        },
        "202ef952406f47c39afc231287433b8f": {
          "model_module": "@jupyter-widgets/controls",
          "model_name": "ProgressStyleModel",
          "state": {
            "_view_name": "StyleView",
            "_model_name": "ProgressStyleModel",
            "description_width": "initial",
            "_view_module": "@jupyter-widgets/base",
            "_model_module_version": "1.5.0",
            "_view_count": null,
            "_view_module_version": "1.2.0",
            "bar_color": null,
            "_model_module": "@jupyter-widgets/controls"
          }
        },
        "27b1958fb129430a8966568ea5367ab3": {
          "model_module": "@jupyter-widgets/base",
          "model_name": "LayoutModel",
          "state": {
            "_view_name": "LayoutView",
            "grid_template_rows": null,
            "right": null,
            "justify_content": null,
            "_view_module": "@jupyter-widgets/base",
            "overflow": null,
            "_model_module_version": "1.2.0",
            "_view_count": null,
            "flex_flow": null,
            "width": null,
            "min_width": null,
            "border": null,
            "align_items": null,
            "bottom": null,
            "_model_module": "@jupyter-widgets/base",
            "top": null,
            "grid_column": null,
            "overflow_y": null,
            "overflow_x": null,
            "grid_auto_flow": null,
            "grid_area": null,
            "grid_template_columns": null,
            "flex": null,
            "_model_name": "LayoutModel",
            "justify_items": null,
            "grid_row": null,
            "max_height": null,
            "align_content": null,
            "visibility": null,
            "align_self": null,
            "height": null,
            "min_height": null,
            "padding": null,
            "grid_auto_rows": null,
            "grid_gap": null,
            "max_width": null,
            "order": null,
            "_view_module_version": "1.2.0",
            "grid_template_areas": null,
            "object_position": null,
            "object_fit": null,
            "grid_auto_columns": null,
            "margin": null,
            "display": null,
            "left": null
          }
        },
        "9255bc92b39a4cd9ab894dd671e2a86b": {
          "model_module": "@jupyter-widgets/controls",
          "model_name": "DescriptionStyleModel",
          "state": {
            "_view_name": "StyleView",
            "_model_name": "DescriptionStyleModel",
            "description_width": "",
            "_view_module": "@jupyter-widgets/base",
            "_model_module_version": "1.5.0",
            "_view_count": null,
            "_view_module_version": "1.2.0",
            "_model_module": "@jupyter-widgets/controls"
          }
        },
        "96d7c30dbe7c4303baed0590a55a078e": {
          "model_module": "@jupyter-widgets/base",
          "model_name": "LayoutModel",
          "state": {
            "_view_name": "LayoutView",
            "grid_template_rows": null,
            "right": null,
            "justify_content": null,
            "_view_module": "@jupyter-widgets/base",
            "overflow": null,
            "_model_module_version": "1.2.0",
            "_view_count": null,
            "flex_flow": null,
            "width": null,
            "min_width": null,
            "border": null,
            "align_items": null,
            "bottom": null,
            "_model_module": "@jupyter-widgets/base",
            "top": null,
            "grid_column": null,
            "overflow_y": null,
            "overflow_x": null,
            "grid_auto_flow": null,
            "grid_area": null,
            "grid_template_columns": null,
            "flex": null,
            "_model_name": "LayoutModel",
            "justify_items": null,
            "grid_row": null,
            "max_height": null,
            "align_content": null,
            "visibility": null,
            "align_self": null,
            "height": null,
            "min_height": null,
            "padding": null,
            "grid_auto_rows": null,
            "grid_gap": null,
            "max_width": null,
            "order": null,
            "_view_module_version": "1.2.0",
            "grid_template_areas": null,
            "object_position": null,
            "object_fit": null,
            "grid_auto_columns": null,
            "margin": null,
            "display": null,
            "left": null
          }
        }
      }
    }
  },
  "cells": [
    {
      "cell_type": "markdown",
      "metadata": {
        "id": "view-in-github",
        "colab_type": "text"
      },
      "source": [
        "<a href=\"https://colab.research.google.com/github/nitinranjansharma/EVA5B2/blob/main/s6/EVA4_S5F9_FinalRun.ipynb\" target=\"_parent\"><img src=\"https://colab.research.google.com/assets/colab-badge.svg\" alt=\"Open In Colab\"/></a>"
      ]
    },
    {
      "cell_type": "code",
      "metadata": {
        "id": "8kH16rnZ7wt_"
      },
      "source": [
        "from __future__ import print_function\n",
        "import torch\n",
        "import torch.nn as nn\n",
        "import torch.nn.functional as F\n",
        "import torch.optim as optim\n",
        "from torchvision import datasets, transforms"
      ],
      "execution_count": null,
      "outputs": []
    },
    {
      "cell_type": "markdown",
      "metadata": {
        "id": "ky3f_Odl-7um"
      },
      "source": [
        "## Data Transformations\n",
        "\n",
        "We first start with defining our data transformations. We need to think what our data is and how can we augment it to correct represent images which it might not see otherwise. \n"
      ]
    },
    {
      "cell_type": "code",
      "metadata": {
        "id": "YtssFUKb-jqx"
      },
      "source": [
        "# Train Phase transformations\n",
        "train_transforms = transforms.Compose([\n",
        "                                      #  transforms.Resize((28, 28)),\n",
        "                                       transforms.ColorJitter(brightness=0.10, contrast=0.1, saturation=0.10, hue=0.1),\n",
        "                                       transforms.RandomRotation((-9.0, 9.0), fill=(1,)),\n",
        "                                       #transforms.CenterCrop(24),\n",
        "                                       transforms.ToTensor(),\n",
        "                                       transforms.Normalize((0.1307,), (0.3081,)) # The mean and std have to be sequences (e.g., tuples), therefore you should add a comma after the values. \n",
        "                                       # Note the difference between (0.1307) and (0.1307,)\n",
        "                                       ])\n",
        "\n",
        "# Test Phase transformations\n",
        "test_transforms = transforms.Compose([\n",
        "                                      #  transforms.Resize((28, 28)),\n",
        "                                      # transforms.ColorJitter(brightness=0.10, contrast=0.1, saturation=0.10, hue=0.1),\n",
        "                                       transforms.ToTensor(),\n",
        "                                       transforms.Normalize((0.1307,), (0.3081,))\n",
        "                                       ])\n"
      ],
      "execution_count": null,
      "outputs": []
    },
    {
      "cell_type": "markdown",
      "metadata": {
        "id": "oQciFYo2B1mO"
      },
      "source": [
        "# Dataset and Creating Train/Test Split"
      ]
    },
    {
      "cell_type": "code",
      "metadata": {
        "id": "_4A84rlfDA23",
        "colab": {
          "base_uri": "https://localhost:8080/",
          "height": 386,
          "referenced_widgets": [
            "4fbf7a77f99643fba107e1254244822a",
            "a0b29efa42e145868f0f60b95735a09a",
            "eb7a9907177449ce954e4655cd196bbc",
            "9fe956fc3aa0432c972676f294da72ca",
            "20bf63035c0f421ab2faa01d2406c64b",
            "521d4f0c63314aa7b102657a8131feaf",
            "1f91551e29644d038e4fc633f39a00d5",
            "3d46e7021bcf4659a6b2bca7db88cd38",
            "6dd41de5e4bc436aae538865e154cb97",
            "bcd29df0ec654aa29fb13f769a41a105",
            "b31c35c2ee6541d6b3c24067602b7519",
            "e0d23e703eff45c986d44271ebd085b7",
            "38b10100c0784b75bca4e8696ceca33a",
            "89b7f6d728a54c8da0ca7d8138c644ba",
            "33ba3c38c8e24970adc1a1df66d66c73",
            "fbfe46a41a1947c3a416834e273ff186",
            "265c15d3add941fb8626ad1c31d72581",
            "0e34025685c34c7e82c017bdbec3a41a",
            "164c2ceefd45444dac86e7f55f1250d3",
            "38223b1b287843c886e576767e30b160",
            "6db52c093e0e48c4a29deaa0a0287360",
            "ce2fc2a91ace44d99b93f809d8fa5c56",
            "2bb15a0044b5429bb20861cc192785cc",
            "c6522d5848304018ac7d63f8d9442299",
            "8c3ea714db6a435e8a0494898eb07758",
            "67c5a80c5dff43acb4832764f8e2bab9",
            "161048024486446483cba487c911272d",
            "badb391caf49435c8652809312864e5b",
            "202ef952406f47c39afc231287433b8f",
            "27b1958fb129430a8966568ea5367ab3",
            "9255bc92b39a4cd9ab894dd671e2a86b",
            "96d7c30dbe7c4303baed0590a55a078e"
          ]
        },
        "outputId": "5bdf384e-e104-4da7-8e00-0e5f4818f5da"
      },
      "source": [
        "train = datasets.MNIST('./data', train=True, download=True, transform=train_transforms)\n",
        "test = datasets.MNIST('./data', train=False, download=True, transform=test_transforms)"
      ],
      "execution_count": null,
      "outputs": [
        {
          "output_type": "stream",
          "text": [
            "Downloading http://yann.lecun.com/exdb/mnist/train-images-idx3-ubyte.gz to ./data/MNIST/raw/train-images-idx3-ubyte.gz\n"
          ],
          "name": "stdout"
        },
        {
          "output_type": "display_data",
          "data": {
            "application/vnd.jupyter.widget-view+json": {
              "model_id": "4fbf7a77f99643fba107e1254244822a",
              "version_minor": 0,
              "version_major": 2
            },
            "text/plain": [
              "HBox(children=(FloatProgress(value=1.0, bar_style='info', max=1.0), HTML(value='')))"
            ]
          },
          "metadata": {
            "tags": []
          }
        },
        {
          "output_type": "stream",
          "text": [
            "Extracting ./data/MNIST/raw/train-images-idx3-ubyte.gz to ./data/MNIST/raw\n",
            "Downloading http://yann.lecun.com/exdb/mnist/train-labels-idx1-ubyte.gz to ./data/MNIST/raw/train-labels-idx1-ubyte.gz\n"
          ],
          "name": "stdout"
        },
        {
          "output_type": "display_data",
          "data": {
            "application/vnd.jupyter.widget-view+json": {
              "model_id": "6dd41de5e4bc436aae538865e154cb97",
              "version_minor": 0,
              "version_major": 2
            },
            "text/plain": [
              "HBox(children=(FloatProgress(value=1.0, bar_style='info', max=1.0), HTML(value='')))"
            ]
          },
          "metadata": {
            "tags": []
          }
        },
        {
          "output_type": "stream",
          "text": [
            "Extracting ./data/MNIST/raw/train-labels-idx1-ubyte.gz to ./data/MNIST/raw\n",
            "Downloading http://yann.lecun.com/exdb/mnist/t10k-images-idx3-ubyte.gz to ./data/MNIST/raw/t10k-images-idx3-ubyte.gz\n",
            "\n"
          ],
          "name": "stdout"
        },
        {
          "output_type": "display_data",
          "data": {
            "application/vnd.jupyter.widget-view+json": {
              "model_id": "265c15d3add941fb8626ad1c31d72581",
              "version_minor": 0,
              "version_major": 2
            },
            "text/plain": [
              "HBox(children=(FloatProgress(value=1.0, bar_style='info', max=1.0), HTML(value='')))"
            ]
          },
          "metadata": {
            "tags": []
          }
        },
        {
          "output_type": "stream",
          "text": [
            "Extracting ./data/MNIST/raw/t10k-images-idx3-ubyte.gz to ./data/MNIST/raw\n",
            "Downloading http://yann.lecun.com/exdb/mnist/t10k-labels-idx1-ubyte.gz to ./data/MNIST/raw/t10k-labels-idx1-ubyte.gz\n"
          ],
          "name": "stdout"
        },
        {
          "output_type": "display_data",
          "data": {
            "application/vnd.jupyter.widget-view+json": {
              "model_id": "8c3ea714db6a435e8a0494898eb07758",
              "version_minor": 0,
              "version_major": 2
            },
            "text/plain": [
              "HBox(children=(FloatProgress(value=1.0, bar_style='info', max=1.0), HTML(value='')))"
            ]
          },
          "metadata": {
            "tags": []
          }
        },
        {
          "output_type": "stream",
          "text": [
            "Extracting ./data/MNIST/raw/t10k-labels-idx1-ubyte.gz to ./data/MNIST/raw\n",
            "Processing...\n",
            "Done!\n"
          ],
          "name": "stdout"
        },
        {
          "output_type": "stream",
          "text": [
            "/usr/local/lib/python3.6/dist-packages/torchvision/datasets/mnist.py:480: UserWarning: The given NumPy array is not writeable, and PyTorch does not support non-writeable tensors. This means you can write to the underlying (supposedly non-writeable) NumPy array using the tensor. You may want to copy the array to protect its data or make it writeable before converting it to a tensor. This type of warning will be suppressed for the rest of this program. (Triggered internally at  /pytorch/torch/csrc/utils/tensor_numpy.cpp:141.)\n",
            "  return torch.from_numpy(parsed.astype(m[2], copy=False)).view(*s)\n"
          ],
          "name": "stderr"
        }
      ]
    },
    {
      "cell_type": "markdown",
      "metadata": {
        "id": "qgldp_3-Dn0c"
      },
      "source": [
        "# Dataloader Arguments & Test/Train Dataloaders\n"
      ]
    },
    {
      "cell_type": "code",
      "metadata": {
        "colab": {
          "base_uri": "https://localhost:8080/"
        },
        "id": "C8OLDR79DrHG",
        "outputId": "cf62ea7d-7b37-41f2-fe5d-a06a811125d9"
      },
      "source": [
        "SEED = 1\n",
        "\n",
        "# CUDA?\n",
        "cuda = torch.cuda.is_available()\n",
        "print(\"CUDA Available?\", cuda)\n",
        "\n",
        "# For reproducibility\n",
        "torch.manual_seed(SEED)\n",
        "\n",
        "if cuda:\n",
        "    torch.cuda.manual_seed(SEED)\n",
        "\n",
        "# dataloader arguments - something you'll fetch these from cmdprmt\n",
        "dataloader_args = dict(shuffle=True, batch_size=128, num_workers=4, pin_memory=True) if cuda else dict(shuffle=True, batch_size=64)\n",
        "\n",
        "# train dataloader\n",
        "train_loader = torch.utils.data.DataLoader(train, **dataloader_args)\n",
        "\n",
        "# test dataloader\n",
        "test_loader = torch.utils.data.DataLoader(test, **dataloader_args)"
      ],
      "execution_count": null,
      "outputs": [
        {
          "output_type": "stream",
          "text": [
            "CUDA Available? True\n"
          ],
          "name": "stdout"
        }
      ]
    },
    {
      "cell_type": "code",
      "metadata": {
        "colab": {
          "base_uri": "https://localhost:8080/"
        },
        "id": "gQCVkE6vdH6D",
        "outputId": "8cd815f9-b3d4-4f4c-e235-b6a485884203"
      },
      "source": [
        "print(len(train_loader.dataset))\r\n",
        "print(len(test_loader.dataset))\r\n",
        "print((60000/128)*15)"
      ],
      "execution_count": null,
      "outputs": [
        {
          "output_type": "stream",
          "text": [
            "60000\n",
            "10000\n",
            "7031.25\n"
          ],
          "name": "stdout"
        }
      ]
    },
    {
      "cell_type": "markdown",
      "metadata": {
        "id": "ubQL3H6RJL3h"
      },
      "source": [
        "# The model\n",
        "Let's start with the model we first saw"
      ]
    },
    {
      "cell_type": "code",
      "metadata": {
        "id": "iFkS2MKzOTVt",
        "colab": {
          "base_uri": "https://localhost:8080/"
        },
        "outputId": "984a64fa-e9af-4302-9f28-acf26d506d37"
      },
      "source": [
        "import torch.nn.functional as F\r\n",
        "dropout_value = 0.1\r\n",
        "class Net(nn.Module):\r\n",
        "    def __init__(self):\r\n",
        "        super(Net, self).__init__()\r\n",
        "        # Input Block\r\n",
        "        self.convblock1 = nn.Sequential(\r\n",
        "            nn.Conv2d(in_channels=1, out_channels=10, kernel_size=(3, 3), padding=0, bias=False),\r\n",
        "            nn.ReLU(),\r\n",
        "            nn.BatchNorm2d(10),\r\n",
        "            #nn.Dropout(dropout_value)\r\n",
        "        ) # output_size = 26 ,Reseptive Field 3\r\n",
        "\r\n",
        "        # CONVOLUTION BLOCK 1\r\n",
        "        self.convblock2 = nn.Sequential(\r\n",
        "            nn.Conv2d(in_channels=10, out_channels=16, kernel_size=(3, 3), padding=0, bias=False),\r\n",
        "            nn.ReLU(),\r\n",
        "            nn.BatchNorm2d(16),\r\n",
        "            #nn.Dropout(dropout_value)\r\n",
        "        ) # output_size = 24 ,Reseptive Field 5\r\n",
        "\r\n",
        "        # TRANSITION BLOCK 1\r\n",
        "\r\n",
        "        self.pool1 = nn.MaxPool2d(2, 2) # output_size = 12 ,Reseptive Field 6\r\n",
        "\r\n",
        "        ## RES block 1\r\n",
        "        self.convblock3 = nn.Sequential(\r\n",
        "            nn.Conv2d(in_channels=16, out_channels=10, kernel_size=(1, 1), padding=0, bias=False),\r\n",
        "            nn.BatchNorm2d(10),\r\n",
        "            nn.ReLU(),\r\n",
        "            #nn.Dropout(dropout_value)\r\n",
        "        ) # output_size = 12 ,Reseptive Field 6\r\n",
        "\r\n",
        "        # CONVOLUTION BLOCK 2\r\n",
        "        self.convblock4 = nn.Sequential(\r\n",
        "            nn.Conv2d(in_channels=10, out_channels=10, kernel_size=(3, 3), padding=0, bias=False),\r\n",
        "            nn.ReLU(),            \r\n",
        "            nn.BatchNorm2d(10),\r\n",
        "            #nn.Dropout(dropout_value)\r\n",
        "        ) # output_size = 10,Reseptive Field 10\r\n",
        "\r\n",
        "        self.convblock5 = nn.Sequential(\r\n",
        "            nn.Conv2d(in_channels=10, out_channels=32, kernel_size=(1, 1), padding=0, bias=False),\r\n",
        "            nn.BatchNorm2d(32),\r\n",
        "            nn.ReLU(),\r\n",
        "            #nn.Dropout(dropout_value)\r\n",
        "        ) # output_size = 10, ,Reseptive Field 10\r\n",
        "\r\n",
        "        #RES Block 2\r\n",
        "        self.convblock6 = nn.Sequential(\r\n",
        "            nn.Conv2d(in_channels=32, out_channels=10, kernel_size=(1, 1), padding=0, bias=False),\r\n",
        "            nn.ReLU(),            \r\n",
        "            nn.BatchNorm2d(10),\r\n",
        "            #nn.Dropout(dropout_value)\r\n",
        "        ) # output_size = 10 ,Reseptive Field 10\r\n",
        "\r\n",
        "        self.convblock7 = nn.Sequential(\r\n",
        "            nn.Conv2d(in_channels=10, out_channels=10, kernel_size=(3, 3), padding=0, bias=False),\r\n",
        "            nn.ReLU(),            \r\n",
        "            nn.BatchNorm2d(10),\r\n",
        "            #nn.Dropout(dropout_value)\r\n",
        "        ) # output_size = 8,Reseptive Field 14\r\n",
        "\r\n",
        "        self.convblock8 = nn.Sequential(\r\n",
        "            nn.Conv2d(in_channels=10, out_channels=32, kernel_size=(1, 1), padding=0, bias=False),\r\n",
        "            nn.BatchNorm2d(32),\r\n",
        "            nn.ReLU(),\r\n",
        "            #nn.Dropout(dropout_value)\r\n",
        "        ) # output_size = 8 ,Reseptive Field 14\r\n",
        "\r\n",
        "        #RES Block 3\r\n",
        "        self.convblock9 = nn.Sequential(\r\n",
        "            nn.Conv2d(in_channels=32, out_channels=10, kernel_size=(1, 1), padding=0, bias=False),\r\n",
        "            nn.ReLU(),            \r\n",
        "            nn.BatchNorm2d(10),\r\n",
        "            #nn.Dropout(dropout_value)\r\n",
        "        ) # output_size = 8,Reseptive Field 14\r\n",
        "\r\n",
        "        self.convblock10 = nn.Sequential(\r\n",
        "            nn.Conv2d(in_channels=10, out_channels=14, kernel_size=(3, 3), padding=0, bias=False),\r\n",
        "            nn.ReLU(),            \r\n",
        "            nn.BatchNorm2d(14),\r\n",
        "            #nn.Dropout(dropout_value)\r\n",
        "        ) # output_size = 6,Reseptive Field 18\r\n",
        "\r\n",
        "        self.convblock11 = nn.Sequential(\r\n",
        "            nn.Conv2d(in_channels=14, out_channels=16, kernel_size=(3, 3), padding=0, bias=False),\r\n",
        "            nn.ReLU(),            \r\n",
        "            nn.BatchNorm2d(16),\r\n",
        "            #nn.Dropout(dropout_value)\r\n",
        "        ) # output_size = 4,Reseptive Field 22\r\n",
        "        \r\n",
        "        # OUTPUT BLOCK\r\n",
        "        self.gap = nn.Sequential(\r\n",
        "            nn.AvgPool2d(kernel_size=4)\r\n",
        "        ) # output_size = 1, Reseptive Field 28\r\n",
        "\r\n",
        "        self.convblock12 = nn.Sequential(\r\n",
        "              nn.Conv2d(in_channels=16, out_channels=10, kernel_size=(1, 1), padding=0, bias=False),\r\n",
        "            # nn.BatchNorm2d(10),\r\n",
        "            # nn.ReLU(),\r\n",
        "            # nn.Dropout(dropout_value)\r\n",
        "        ) # output_size = 1, Reseptive Field 28\r\n",
        "\r\n",
        "\r\n",
        "        self.dropout = nn.Dropout(dropout_value)\r\n",
        "\r\n",
        "    def forward(self, x):\r\n",
        "        x = self.convblock1(x)\r\n",
        "        x = self.convblock2(x)\r\n",
        "        x = self.convblock3(x)\r\n",
        "        x = self.pool1(x)\r\n",
        "        x = self.convblock4(x)\r\n",
        "        x = self.convblock5(x)\r\n",
        "        #x = self.pool2(x)\r\n",
        "        x = self.convblock6(x)\r\n",
        "        x = self.convblock7(x)\r\n",
        "        x = self.convblock8(x)\r\n",
        "        x = self.convblock9(x)\r\n",
        "        x = self.convblock10(x)\r\n",
        "        x = self.convblock11(x)\r\n",
        "        x = self.gap(x)        \r\n",
        "        x = self.convblock12(x)\r\n",
        "\r\n",
        "        x = x.view(-1, 10)\r\n",
        "        return F.log_softmax(x, dim=-1)\r\n",
        "\r\n",
        "\r\n"
      ],
      "execution_count": null,
      "outputs": [
        {
          "output_type": "stream",
          "text": [
            "\n"
          ],
          "name": "stdout"
        }
      ]
    },
    {
      "cell_type": "code",
      "metadata": {
        "colab": {
          "base_uri": "https://localhost:8080/"
        },
        "id": "Ey2_5-MxhoeW",
        "outputId": "36fe6229-5000-4e2f-9f3c-254ca6987aac"
      },
      "source": [
        "!pip install torchsummary\r\n",
        "from torchsummary import summary\r\n",
        "use_cuda = torch.cuda.is_available()\r\n",
        "device = torch.device(\"cuda\" if use_cuda else \"cpu\")\r\n",
        "print(device)\r\n",
        "model = Net().to(device)\r\n",
        "summary(model, input_size=(1, 28, 28))"
      ],
      "execution_count": null,
      "outputs": [
        {
          "output_type": "stream",
          "text": [
            "Requirement already satisfied: torchsummary in /usr/local/lib/python3.6/dist-packages (1.5.1)\n",
            "cuda\n",
            "----------------------------------------------------------------\n",
            "        Layer (type)               Output Shape         Param #\n",
            "================================================================\n",
            "            Conv2d-1           [-1, 10, 26, 26]              90\n",
            "              ReLU-2           [-1, 10, 26, 26]               0\n",
            "       BatchNorm2d-3           [-1, 10, 26, 26]              20\n",
            "            Conv2d-4           [-1, 16, 24, 24]           1,440\n",
            "              ReLU-5           [-1, 16, 24, 24]               0\n",
            "       BatchNorm2d-6           [-1, 16, 24, 24]              32\n",
            "            Conv2d-7           [-1, 10, 24, 24]             160\n",
            "       BatchNorm2d-8           [-1, 10, 24, 24]              20\n",
            "              ReLU-9           [-1, 10, 24, 24]               0\n",
            "        MaxPool2d-10           [-1, 10, 12, 12]               0\n",
            "           Conv2d-11           [-1, 10, 10, 10]             900\n",
            "             ReLU-12           [-1, 10, 10, 10]               0\n",
            "      BatchNorm2d-13           [-1, 10, 10, 10]              20\n",
            "           Conv2d-14           [-1, 32, 10, 10]             320\n",
            "      BatchNorm2d-15           [-1, 32, 10, 10]              64\n",
            "             ReLU-16           [-1, 32, 10, 10]               0\n",
            "           Conv2d-17           [-1, 10, 10, 10]             320\n",
            "             ReLU-18           [-1, 10, 10, 10]               0\n",
            "      BatchNorm2d-19           [-1, 10, 10, 10]              20\n",
            "           Conv2d-20             [-1, 10, 8, 8]             900\n",
            "             ReLU-21             [-1, 10, 8, 8]               0\n",
            "      BatchNorm2d-22             [-1, 10, 8, 8]              20\n",
            "           Conv2d-23             [-1, 32, 8, 8]             320\n",
            "      BatchNorm2d-24             [-1, 32, 8, 8]              64\n",
            "             ReLU-25             [-1, 32, 8, 8]               0\n",
            "           Conv2d-26             [-1, 10, 8, 8]             320\n",
            "             ReLU-27             [-1, 10, 8, 8]               0\n",
            "      BatchNorm2d-28             [-1, 10, 8, 8]              20\n",
            "           Conv2d-29             [-1, 14, 6, 6]           1,260\n",
            "             ReLU-30             [-1, 14, 6, 6]               0\n",
            "      BatchNorm2d-31             [-1, 14, 6, 6]              28\n",
            "           Conv2d-32             [-1, 16, 4, 4]           2,016\n",
            "             ReLU-33             [-1, 16, 4, 4]               0\n",
            "      BatchNorm2d-34             [-1, 16, 4, 4]              32\n",
            "        AvgPool2d-35             [-1, 16, 1, 1]               0\n",
            "           Conv2d-36             [-1, 10, 1, 1]             160\n",
            "================================================================\n",
            "Total params: 8,546\n",
            "Trainable params: 8,546\n",
            "Non-trainable params: 0\n",
            "----------------------------------------------------------------\n",
            "Input size (MB): 0.00\n",
            "Forward/backward pass size (MB): 0.72\n",
            "Params size (MB): 0.03\n",
            "Estimated Total Size (MB): 0.76\n",
            "----------------------------------------------------------------\n"
          ],
          "name": "stdout"
        }
      ]
    },
    {
      "cell_type": "code",
      "metadata": {
        "id": "unGGd3KYJpwG"
      },
      "source": [
        "class BatchNorm(nn.BatchNorm2d):\r\n",
        "    def __init__(self, num_features, eps=1e-05, momentum=0.1, weight=False, bias=False):\r\n",
        "        super().__init__(num_features, eps=eps, momentum=momentum)\r\n",
        "        self.weight.data.fill_(1.0)\r\n",
        "        self.bias.data.fill_(0.0)\r\n",
        "        self.weight.requires_grad = weight\r\n",
        "        self.bias.requires_grad = bias\r\n",
        "\r\n",
        "\r\n",
        "class GhostBatchNorm(BatchNorm):\r\n",
        "    def __init__(self, num_features, num_splits, **kw):\r\n",
        "        super().__init__(num_features, **kw)\r\n",
        "        self.num_splits = num_splits\r\n",
        "        self.register_buffer('running_mean', torch.zeros(num_features * self.num_splits))\r\n",
        "        self.register_buffer('running_var', torch.ones(num_features * self.num_splits))\r\n",
        "\r\n",
        "    def train(self, mode=True):\r\n",
        "        if (self.training is True) and (mode is False):  # lazily collate stats when we are going to use them\r\n",
        "            self.running_mean = torch.mean(self.running_mean.view(self.num_splits, self.num_features), dim=0).repeat(\r\n",
        "                self.num_splits)\r\n",
        "            self.running_var = torch.mean(self.running_var.view(self.num_splits, self.num_features), dim=0).repeat(\r\n",
        "                self.num_splits)\r\n",
        "        return super().train(mode)\r\n",
        "\r\n",
        "    def forward(self, input):\r\n",
        "        N, C, H, W = input.shape\r\n",
        "        if self.training or not self.track_running_stats:\r\n",
        "            return F.batch_norm(\r\n",
        "                input.view(-1, C * self.num_splits, H, W), self.running_mean, self.running_var,\r\n",
        "                self.weight.repeat(self.num_splits), self.bias.repeat(self.num_splits),\r\n",
        "                True, self.momentum, self.eps).view(N, C, H, W)\r\n",
        "        else:\r\n",
        "            return F.batch_norm(\r\n",
        "                input, self.running_mean[:self.num_features], self.running_var[:self.num_features],\r\n",
        "                self.weight, self.bias, False, self.momentum, self.eps)"
      ],
      "execution_count": null,
      "outputs": []
    },
    {
      "cell_type": "code",
      "metadata": {
        "id": "ItwRApnqQ1Om"
      },
      "source": [
        "import torch.nn.functional as F\r\n",
        "dropout_value = 0.1\r\n",
        "class Net_ghost(nn.Module):\r\n",
        "    def __init__(self):\r\n",
        "        super(Net_ghost, self).__init__()\r\n",
        "        # Input Block\r\n",
        "        self.convblock1 = nn.Sequential(\r\n",
        "            nn.Conv2d(in_channels=1, out_channels=10, kernel_size=(3, 3), padding=0, bias=False),\r\n",
        "            GhostBatchNorm(10,num_splits=2),\r\n",
        "            nn.ReLU(),\r\n",
        "            \r\n",
        "            #nn.Dropout(dropout_value)\r\n",
        "        ) # output_size = 26 ,Reseptive Field 3\r\n",
        "\r\n",
        "        # CONVOLUTION BLOCK 1\r\n",
        "        self.convblock2 = nn.Sequential(\r\n",
        "            nn.Conv2d(in_channels=10, out_channels=16, kernel_size=(3, 3), padding=0, bias=False),\r\n",
        "            GhostBatchNorm(16,num_splits=2),\r\n",
        "            nn.ReLU(),\r\n",
        "            \r\n",
        "            #nn.Dropout(dropout_value)\r\n",
        "        ) # output_size = 24 ,Reseptive Field 5\r\n",
        "\r\n",
        "        # TRANSITION BLOCK 1\r\n",
        "\r\n",
        "        self.pool1 = nn.MaxPool2d(2, 2) # output_size = 12 ,Reseptive Field 6\r\n",
        "\r\n",
        "        ## RES block 1\r\n",
        "        self.convblock3 = nn.Sequential(\r\n",
        "            nn.Conv2d(in_channels=16, out_channels=10, kernel_size=(1, 1), padding=0, bias=False),\r\n",
        "            GhostBatchNorm(10,num_splits=2),\r\n",
        "            nn.ReLU(),\r\n",
        "            #nn.Dropout(dropout_value)\r\n",
        "        ) # output_size = 12 ,Reseptive Field 6\r\n",
        "\r\n",
        "        # CONVOLUTION BLOCK 2\r\n",
        "        self.convblock4 = nn.Sequential(\r\n",
        "            nn.Conv2d(in_channels=10, out_channels=10, kernel_size=(3, 3), padding=0, bias=False),\r\n",
        "            GhostBatchNorm(10,num_splits=2),\r\n",
        "            nn.ReLU(),            \r\n",
        "            #nn.Dropout(dropout_value)\r\n",
        "        ) # output_size = 10,Reseptive Field 10\r\n",
        "\r\n",
        "        self.convblock5 = nn.Sequential(\r\n",
        "            nn.Conv2d(in_channels=10, out_channels=32, kernel_size=(1, 1), padding=0, bias=False),\r\n",
        "            GhostBatchNorm(32,num_splits=2),\r\n",
        "            nn.ReLU(),\r\n",
        "            #nn.Dropout(dropout_value)\r\n",
        "        ) # output_size = 10, ,Reseptive Field 10\r\n",
        "\r\n",
        "        #RES Block 2\r\n",
        "        self.convblock6 = nn.Sequential(\r\n",
        "            nn.Conv2d(in_channels=32, out_channels=10, kernel_size=(1, 1), padding=0, bias=False),\r\n",
        "            GhostBatchNorm(10,num_splits=2),\r\n",
        "            nn.ReLU(),            \r\n",
        "            #nn.Dropout(dropout_value)\r\n",
        "        ) # output_size = 10 ,Reseptive Field 10\r\n",
        "\r\n",
        "        self.convblock7 = nn.Sequential(\r\n",
        "            nn.Conv2d(in_channels=10, out_channels=10, kernel_size=(3, 3), padding=0, bias=False),\r\n",
        "            GhostBatchNorm(10,num_splits=2),\r\n",
        "            nn.ReLU()\r\n",
        "            #nn.Dropout(dropout_value)\r\n",
        "        ) # output_size = 8,Reseptive Field 14\r\n",
        "\r\n",
        "        self.convblock8 = nn.Sequential(\r\n",
        "            nn.Conv2d(in_channels=10, out_channels=32, kernel_size=(1, 1), padding=0, bias=False),\r\n",
        "            GhostBatchNorm(32,num_splits=2),\r\n",
        "            nn.ReLU(),\r\n",
        "            #nn.Dropout(dropout_value)\r\n",
        "        ) # output_size = 8 ,Reseptive Field 14\r\n",
        "\r\n",
        "        #RES Block 3\r\n",
        "        self.convblock9 = nn.Sequential(\r\n",
        "            nn.Conv2d(in_channels=32, out_channels=10, kernel_size=(1, 1), padding=0, bias=False),\r\n",
        "            GhostBatchNorm(10,num_splits=2),\r\n",
        "            nn.ReLU(),          \r\n",
        "            #nn.Dropout(dropout_value)\r\n",
        "        ) # output_size = 8,Reseptive Field 14\r\n",
        "\r\n",
        "        self.convblock10 = nn.Sequential(\r\n",
        "            nn.Conv2d(in_channels=10, out_channels=14, kernel_size=(3, 3), padding=0, bias=False),\r\n",
        "            GhostBatchNorm(14,num_splits=2),\r\n",
        "            nn.ReLU(),            \r\n",
        "            #nn.Dropout(dropout_value)\r\n",
        "        ) # output_size = 6,Reseptive Field 18\r\n",
        "\r\n",
        "        self.convblock11 = nn.Sequential(\r\n",
        "            nn.Conv2d(in_channels=14, out_channels=16, kernel_size=(3, 3), padding=0, bias=False),\r\n",
        "            GhostBatchNorm(16,num_splits=2),\r\n",
        "            nn.ReLU(),            \r\n",
        "            #nn.Dropout(dropout_value)\r\n",
        "        ) # output_size = 4,Reseptive Field 22\r\n",
        "        \r\n",
        "        # OUTPUT BLOCK\r\n",
        "        self.gap = nn.Sequential(\r\n",
        "            nn.AvgPool2d(kernel_size=4)\r\n",
        "        ) # output_size = 1, Reseptive Field 28\r\n",
        "\r\n",
        "        self.convblock12 = nn.Sequential(\r\n",
        "              nn.Conv2d(in_channels=16, out_channels=10, kernel_size=(1, 1), padding=0, bias=False),\r\n",
        "            # nn.BatchNorm2d(10),\r\n",
        "            # nn.ReLU(),\r\n",
        "            # nn.Dropout(dropout_value)\r\n",
        "        ) # output_size = 1, Reseptive Field 28\r\n",
        "\r\n",
        "\r\n",
        "        self.dropout = nn.Dropout(dropout_value)\r\n",
        "\r\n",
        "    def forward(self, x):\r\n",
        "        x = self.convblock1(x)\r\n",
        "        x = self.convblock2(x)\r\n",
        "        x = self.convblock3(x)\r\n",
        "        x = self.pool1(x)\r\n",
        "        x = self.convblock4(x)\r\n",
        "        x = self.convblock5(x)\r\n",
        "        #x = self.pool2(x)\r\n",
        "        x = self.convblock6(x)\r\n",
        "        x = self.convblock7(x)\r\n",
        "        x = self.convblock8(x)\r\n",
        "        x = self.convblock9(x)\r\n",
        "        x = self.convblock10(x)\r\n",
        "        x = self.convblock11(x)\r\n",
        "        x = self.gap(x)        \r\n",
        "        x = self.convblock12(x)\r\n",
        "\r\n",
        "        x = x.view(-1, 10)\r\n",
        "        return F.log_softmax(x, dim=-1)"
      ],
      "execution_count": null,
      "outputs": []
    },
    {
      "cell_type": "code",
      "metadata": {
        "colab": {
          "base_uri": "https://localhost:8080/"
        },
        "id": "NHHSFIyawLSj",
        "outputId": "7c524054-ddf0-4748-8cf4-bb674a6b0f68"
      },
      "source": [
        "from torchsummary import summary\r\n",
        "use_cuda = torch.cuda.is_available()\r\n",
        "device = torch.device(\"cuda\" if use_cuda else \"cpu\")\r\n",
        "print(device)\r\n",
        "model2 = Net_ghost().to(device)\r\n",
        "summary(model2, input_size=(1, 28, 28))"
      ],
      "execution_count": null,
      "outputs": [
        {
          "output_type": "stream",
          "text": [
            "cuda\n",
            "----------------------------------------------------------------\n",
            "        Layer (type)               Output Shape         Param #\n",
            "================================================================\n",
            "            Conv2d-1           [-1, 10, 26, 26]              90\n",
            "    GhostBatchNorm-2           [-1, 10, 26, 26]              20\n",
            "              ReLU-3           [-1, 10, 26, 26]               0\n",
            "            Conv2d-4           [-1, 16, 24, 24]           1,440\n",
            "    GhostBatchNorm-5           [-1, 16, 24, 24]              32\n",
            "              ReLU-6           [-1, 16, 24, 24]               0\n",
            "            Conv2d-7           [-1, 10, 24, 24]             160\n",
            "    GhostBatchNorm-8           [-1, 10, 24, 24]              20\n",
            "              ReLU-9           [-1, 10, 24, 24]               0\n",
            "        MaxPool2d-10           [-1, 10, 12, 12]               0\n",
            "           Conv2d-11           [-1, 10, 10, 10]             900\n",
            "   GhostBatchNorm-12           [-1, 10, 10, 10]              20\n",
            "             ReLU-13           [-1, 10, 10, 10]               0\n",
            "           Conv2d-14           [-1, 32, 10, 10]             320\n",
            "   GhostBatchNorm-15           [-1, 32, 10, 10]              64\n",
            "             ReLU-16           [-1, 32, 10, 10]               0\n",
            "           Conv2d-17           [-1, 10, 10, 10]             320\n",
            "   GhostBatchNorm-18           [-1, 10, 10, 10]              20\n",
            "             ReLU-19           [-1, 10, 10, 10]               0\n",
            "           Conv2d-20             [-1, 10, 8, 8]             900\n",
            "   GhostBatchNorm-21             [-1, 10, 8, 8]              20\n",
            "             ReLU-22             [-1, 10, 8, 8]               0\n",
            "           Conv2d-23             [-1, 32, 8, 8]             320\n",
            "   GhostBatchNorm-24             [-1, 32, 8, 8]              64\n",
            "             ReLU-25             [-1, 32, 8, 8]               0\n",
            "           Conv2d-26             [-1, 10, 8, 8]             320\n",
            "   GhostBatchNorm-27             [-1, 10, 8, 8]              20\n",
            "             ReLU-28             [-1, 10, 8, 8]               0\n",
            "           Conv2d-29             [-1, 14, 6, 6]           1,260\n",
            "   GhostBatchNorm-30             [-1, 14, 6, 6]              28\n",
            "             ReLU-31             [-1, 14, 6, 6]               0\n",
            "           Conv2d-32             [-1, 16, 4, 4]           2,016\n",
            "   GhostBatchNorm-33             [-1, 16, 4, 4]              32\n",
            "             ReLU-34             [-1, 16, 4, 4]               0\n",
            "        AvgPool2d-35             [-1, 16, 1, 1]               0\n",
            "           Conv2d-36             [-1, 10, 1, 1]             160\n",
            "================================================================\n",
            "Total params: 8,546\n",
            "Trainable params: 8,206\n",
            "Non-trainable params: 340\n",
            "----------------------------------------------------------------\n",
            "Input size (MB): 0.00\n",
            "Forward/backward pass size (MB): 0.72\n",
            "Params size (MB): 0.03\n",
            "Estimated Total Size (MB): 0.76\n",
            "----------------------------------------------------------------\n"
          ],
          "name": "stdout"
        }
      ]
    },
    {
      "cell_type": "markdown",
      "metadata": {
        "id": "1__x_SbrL7z3"
      },
      "source": [
        "# Training and Testing\n",
        "\n",
        "Looking at logs can be boring, so we'll introduce **tqdm** progressbar to get cooler logs. \n",
        "\n",
        "Let's write train and test functions"
      ]
    },
    {
      "cell_type": "code",
      "metadata": {
        "id": "fbkF2nN_LYIb"
      },
      "source": [
        "from tqdm import tqdm\n",
        "\n",
        "def train(train_losses,train_acc,model, device, train_loader, optimizer, epoch,l1=0,lambda1 = 10e-4 ,NeedL1=True,):\n",
        "  \n",
        "\n",
        "  model.train()\n",
        "  pbar = tqdm(train_loader)\n",
        "  correct = 0\n",
        "  processed = 0\n",
        "  for batch_idx, (data, target) in enumerate(pbar):\n",
        "    # get samples\n",
        "    data, target = data.to(device), target.to(device)\n",
        "\n",
        "    # Init\n",
        "    optimizer.zero_grad()\n",
        "    # In PyTorch, we need to set the gradients to zero before starting to do backpropragation because PyTorch accumulates the gradients on subsequent backward passes. \n",
        "    # Because of this, when you start your training loop, ideally you should zero out the gradients so that you do the parameter update correctly.\n",
        "\n",
        "    # Predict\n",
        "    y_pred = model(data)\n",
        "\n",
        "    # Calculate loss\n",
        "    if NeedL1 == True:  \n",
        "      loss = F.nll_loss(y_pred, target)\n",
        "      l1 = 0\n",
        "      for p in model.parameters():\n",
        "        l1=l1+p.abs().sum()\n",
        "      loss = loss+lambda1*l1\n",
        "    else:\n",
        "      loss = F.nll_loss(y_pred, target)\n",
        "\n",
        "    train_losses.append(loss)\n",
        "\n",
        "    # Backpropagation\n",
        "    loss.backward()\n",
        "    optimizer.step()\n",
        "\n",
        "    # Update pbar-tqdm\n",
        "    \n",
        "    pred = y_pred.argmax(dim=1, keepdim=True)  # get the index of the max log-probability\n",
        "    correct += pred.eq(target.view_as(pred)).sum().item()\n",
        "    processed += len(data)\n",
        "\n",
        "    pbar.set_description(desc= f'Loss={loss.item()} Batch_id={batch_idx} Accuracy={100*correct/processed:0.2f}')\n",
        "    train_acc.append(100*correct/processed)\n",
        "    #return train_losses,train_acc\n",
        "\n",
        "def test(test_losses,test_acc,model, device, test_loader):\n",
        "\n",
        "    model.eval()\n",
        "    test_loss = 0\n",
        "    correct = 0\n",
        "\n",
        "    with torch.no_grad():\n",
        "        for data, target in test_loader:\n",
        "            data, target = data.to(device), target.to(device)\n",
        "            output = model(data)\n",
        "            test_loss += F.nll_loss(output, target, reduction='sum').item()  # sum up batch loss\n",
        "            pred = output.argmax(dim=1, keepdim=True)  # get the index of the max log-probability\n",
        "            correct += pred.eq(target.view_as(pred)).sum().item()\n",
        "\n",
        "    test_loss /= len(test_loader.dataset)\n",
        "    test_losses.append(test_loss)\n",
        "\n",
        "    print('\\nTest set: Average loss: {:.4f}, Accuracy: {}/{} ({:.2f}%)\\n'.format(\n",
        "        test_loss, correct, len(test_loader.dataset),\n",
        "        100. * correct / len(test_loader.dataset)))\n",
        "    \n",
        "    test_acc.append(100. * correct / len(test_loader.dataset))\n",
        "\n",
        "    #return test_losses,test_acc"
      ],
      "execution_count": null,
      "outputs": []
    },
    {
      "cell_type": "code",
      "metadata": {
        "id": "PO2bioVVHxB7"
      },
      "source": [
        "#for model with two resnet block \r\n",
        "from torch.optim.lr_scheduler import StepLR\r\n",
        "def training_loop(model,l1=0,lambda1 = 10e-4 ,NeedL1=True,EPOCHS = 25 ,weight_decay =0,device=device,train_loader=train_loader,saveM=True):\r\n",
        "  train_losses1 = []\r\n",
        "  train_acc1 = []\r\n",
        "  test_losses1 = []\r\n",
        "  test_acc1 = []\r\n",
        "  train_losses = []\r\n",
        "  train_acc = []\r\n",
        "  test_losses = []\r\n",
        "  test_acc = []\r\n",
        "  #model =  Net().to(device)\r\n",
        "  optimizer = optim.SGD(model.parameters(), lr=0.01, momentum=0.9,weight_decay = weight_decay)\r\n",
        "  scheduler = StepLR(optimizer, step_size=6, gamma=0.5)\r\n",
        "  for epoch in range(EPOCHS):\r\n",
        "      print(\"EPOCH:\", epoch)\r\n",
        "      train(train_losses, train_acc, model, device, train_loader, optimizer, epoch,l1=0,lambda1 = 10e-4 ,NeedL1=NeedL1)\r\n",
        "      scheduler.step()\r\n",
        "      print('current Learing Rate: ', optimizer.state_dict()[\"param_groups\"][0][\"lr\"])\r\n",
        "      test(test_losses,test_acc,model, device, test_loader)\r\n",
        "      #train_losses1.append(train_losses)\r\n",
        "      #train_acc1.append(train_acc)\r\n",
        "      #test_losses1.append(test_losses)\r\n",
        "      #test_acc1.append(test_acc)\r\n",
        "  return train_losses,test_losses,train_acc,test_acc, model "
      ],
      "execution_count": null,
      "outputs": []
    },
    {
      "cell_type": "code",
      "metadata": {
        "colab": {
          "base_uri": "https://localhost:8080/"
        },
        "id": "lMUY7MlitYjW",
        "outputId": "1d4ebb83-2866-4653-8059-b434c1dd63af"
      },
      "source": [
        "from google.colab import drive\r\n",
        "drive.mount('/content/drive')"
      ],
      "execution_count": null,
      "outputs": [
        {
          "output_type": "stream",
          "text": [
            "Mounted at /content/drive\n"
          ],
          "name": "stdout"
        }
      ]
    },
    {
      "cell_type": "code",
      "metadata": {
        "id": "cO_x3eutWFxQ"
      },
      "source": [
        "def training_fun(EPOCHS = 25):\r\n",
        "  final = {}\r\n",
        "  final['Model1'] = {}\r\n",
        "  final['Model2'] = {}\r\n",
        "  final['Model3'] = {}\r\n",
        "  final['Model4'] = {}\r\n",
        "  final['Model5'] = {} \r\n",
        "  \r\n",
        "  #Model Type 1\r\n",
        "  model =  Net().to(device)\r\n",
        "  train_losses_l1,test_losses_l1,train_acc_l1,test_acc_l1,model = training_loop(model = model,l1=0,lambda1 = 10e-4 ,NeedL1=True,EPOCHS = EPOCHS ,weight_decay =0,device=device,train_loader=train_loader)\r\n",
        "  #torch.save(model.state_dict(), '/content/drive/MyDrive/EVA4S6/checkpoint_type1.pth')\r\n",
        "  \r\n",
        "  #Model Type 2\r\n",
        "  model =  Net().to(device)  \r\n",
        "  train_losses_l2,test_losses_l2,train_acc_l2,test_acc_l2,model = training_loop(model = model,l1=0,lambda1 = 10e-4 ,NeedL1=False,EPOCHS = EPOCHS ,weight_decay =1e-5,device=device,train_loader=train_loader)\r\n",
        "  #torch.save(model.state_dict(), '/content/drive/MyDrive/EVA4S6/checkpoint_type2.pth')\r\n",
        "  \r\n",
        "  #Model Type 3\r\n",
        "  model =  Net().to(device)\r\n",
        "  train_losses_l12,test_losses_l12,train_acc_l12,test_acc_l12,model = training_loop(model = model,l1=0,lambda1 = 10e-4 ,NeedL1=True,EPOCHS = EPOCHS ,weight_decay =1e-5,device=device,train_loader=train_loader)\r\n",
        "  #torch.save(model.state_dict(), '/content/drive/MyDrive/EVA4S6/checkpoint_type3.pth')\r\n",
        "\r\n",
        "  #Model Type 4\r\n",
        "  model2 = Net_ghost().to(device)  \r\n",
        "  train_losses_GBN,test_losses_GBN,train_acc_GBN,test_acc_GBN, model = training_loop(model = model2,l1=0,lambda1 = 10e-4 ,NeedL1=False,EPOCHS = EPOCHS ,weight_decay =0,device=device,train_loader=train_loader)\r\n",
        "  #torch.save(model.state_dict(), '/content/drive/MyDrive/EVA4S6/checkpoint_type4.pth')\r\n",
        "  trained = model2\r\n",
        "  #Model Type 5\r\n",
        "  model2 = Net_ghost().to(device)   \r\n",
        "  train_losses_GBN_1,test_losses_GBN_1,train_acc_GBN_1,test_acc_GBN_1,model = training_loop(model = model2,l1=0,lambda1 = 10e-4 ,NeedL1=True,EPOCHS = EPOCHS ,weight_decay =1e-5,device=device,train_loader=train_loader)\r\n",
        "  #torch.save(model.state_dict(), '/content/drive/MyDrive/EVA4S6/checkpoint_type5.pth')\r\n",
        "  \r\n",
        "  final['Model1']['train_loss_l1'] = train_losses_l1\r\n",
        "  final['Model1']['test_loss_l1'] = test_losses_l1\r\n",
        "  final['Model1']['train_acc_l1'] = train_acc_l1\r\n",
        "  final['Model1']['test_acc_l1'] = test_acc_l1\r\n",
        "  final['Model2']['train_losses_l2'] = train_losses_l2\r\n",
        "  final['Model2']['test_losses_l2'] = test_losses_l2\r\n",
        "  final['Model2']['train_acc_l2'] = train_acc_l2\r\n",
        "  final['Model2']['test_acc_l2'] = test_acc_l2\r\n",
        "  final['Model3']['train_losses_l12'] = train_losses_l12\r\n",
        "  final['Model3']['test_losses_l12'] = test_losses_l12\r\n",
        "  final['Model3']['train_acc_l12'] = train_acc_l12\r\n",
        "  final['Model3']['test_acc_l12'] = test_acc_l12\r\n",
        "  final['Model4']['train_losses_GBN'] = train_losses_GBN\r\n",
        "  final['Model4']['test_losses_GBN'] = test_losses_GBN\r\n",
        "  final['Model4']['train_acc_GBN'] = train_acc_GBN\r\n",
        "  final['Model4']['test_acc_GBN'] = test_acc_GBN\r\n",
        "  final['Model5']['train_losses_GBN_1'] = train_losses_GBN_1\r\n",
        "  final['Model5']['test_losses_GBN_1'] = test_losses_GBN_1\r\n",
        "  final['Model5']['train_acc_GBN_1'] = train_acc_GBN_1\r\n",
        "  final['Model5']['test_acc_GBN_1'] = test_acc_GBN_1\r\n",
        "\r\n",
        "  return final,trained\r\n",
        "  "
      ],
      "execution_count": null,
      "outputs": []
    },
    {
      "cell_type": "code",
      "metadata": {
        "id": "Hx1z4m1ti-im"
      },
      "source": [
        "#final_dict,trained = training_fun()"
      ],
      "execution_count": null,
      "outputs": []
    },
    {
      "cell_type": "code",
      "metadata": {
        "id": "OR9m-YZxfFqE"
      },
      "source": [
        "from IPython.utils import io\r\n",
        "\r\n",
        "with io.capture_output() as captured:\r\n",
        "    final_dict,trained = training_fun()"
      ],
      "execution_count": null,
      "outputs": []
    },
    {
      "cell_type": "code",
      "metadata": {
        "id": "yAfKcqS3fXsO",
        "colab": {
          "base_uri": "https://localhost:8080/",
          "height": 475
        },
        "outputId": "33ed7d85-8ea8-4487-eb6b-1511e43c57bd"
      },
      "source": [
        "%matplotlib inline\r\n",
        "import matplotlib.pyplot as plt\r\n",
        "\r\n",
        "fig,(ax1,ax2) = plt.subplots(1,2,figsize=(15,7))\r\n",
        "ax1.plot(final_dict['Model1']['test_acc_l1'], label=\"Base With L1\")\r\n",
        "ax1.plot(final_dict['Model2']['test_acc_l2'], color=\"green\", label=\"Base With L2\")\r\n",
        "ax1.plot(final_dict['Model3']['test_acc_l12'], color=\"red\", label=\"Base with l1 & L2\")\r\n",
        "ax1.plot(final_dict['Model4']['test_acc_GBN'], color=\"orange\", label=\"GBN only\")\r\n",
        "ax1.plot(final_dict['Model5']['test_acc_GBN_1'], color=\"blue\", label=\"GBN & L1+L2\")\r\n",
        "ax1.set_title(\"Validation Accuracy over 25 epochs\")\r\n",
        "ax1.set_xlabel('Epochs')\r\n",
        "ax1.set_ylabel('Accuracy')\r\n",
        "ax1.legend()\r\n",
        "\r\n",
        "\r\n",
        "ax2.plot(final_dict['Model1']['test_loss_l1'], label=\"Base With L1\")\r\n",
        "ax2.plot(final_dict['Model2']['test_losses_l2'], color=\"green\", label=\"Base With L2\")\r\n",
        "ax2.plot(final_dict['Model3']['test_losses_l12'], color=\"red\", label=\"Base with l1 & L2\")\r\n",
        "ax2.plot(final_dict['Model4']['test_losses_GBN'], color=\"orange\", label=\"GBN only\")\r\n",
        "ax2.plot(final_dict['Model5']['test_losses_GBN_1'], color=\"blue\", label=\"GBN & L1+L2\")\r\n",
        "ax2.set_title(\"Validation loss over 25 epochs\")\r\n",
        "ax2.set_xlabel('Epochs')\r\n",
        "ax2.set_ylabel('loss')\r\n",
        "ax2.legend()\r\n",
        "\r\n"
      ],
      "execution_count": null,
      "outputs": [
        {
          "output_type": "execute_result",
          "data": {
            "text/plain": [
              "<matplotlib.legend.Legend at 0x7f33d73f0a20>"
            ]
          },
          "metadata": {
            "tags": []
          },
          "execution_count": 20
        },
        {
          "output_type": "display_data",
          "data": {
            "image/png": "[encoded data removed]",
            "text/plain": [
              "<Figure size 1080x504 with 2 Axes>"
            ]
          },
          "metadata": {
            "tags": [],
            "needs_background": "light"
          }
        }
      ]
    },
    {
      "cell_type": "code",
      "metadata": {
        "colab": {
          "base_uri": "https://localhost:8080/"
        },
        "id": "Ucrka_xlqg7E",
        "outputId": "e93f8a73-8f75-44ae-a24a-bced5e4395e3"
      },
      "source": [
        "final_dict['Model1']['test_acc_l1']"
      ],
      "execution_count": null,
      "outputs": [
        {
          "output_type": "execute_result",
          "data": {
            "text/plain": [
              "[97.34,\n",
              " 98.02,\n",
              " 98.15,\n",
              " 98.31,\n",
              " 97.91,\n",
              " 97.96,\n",
              " 98.65,\n",
              " 98.67,\n",
              " 98.23,\n",
              " 98.37,\n",
              " 98.57,\n",
              " 99.0,\n",
              " 99.04,\n",
              " 98.86,\n",
              " 98.64,\n",
              " 99.07,\n",
              " 98.05,\n",
              " 98.37,\n",
              " 99.2,\n",
              " 99.21,\n",
              " 98.88,\n",
              " 99.07,\n",
              " 99.16,\n",
              " 98.82,\n",
              " 99.21]"
            ]
          },
          "metadata": {
            "tags": []
          },
          "execution_count": 21
        }
      ]
    },
    {
      "cell_type": "code",
      "metadata": {
        "id": "AnrPMo-FyBD3"
      },
      "source": [
        "import numpy as np\r\n",
        "from tqdm import tqdm\r\n",
        "test_losses = []\r\n",
        "test_acc = []\r\n",
        "pred_wrong_t=[]\r\n",
        "true_wrong_t=[]\r\n",
        "image_t=[]\r\n",
        "\r\n",
        "\r\n",
        "def test_misclassified(model, device, test_loader):\r\n",
        "    model.eval()\r\n",
        "    test_loss = 0\r\n",
        "    correct = 0\r\n",
        "\r\n",
        "    #pred1 = []\r\n",
        "    #true = []\r\n",
        "    pred_wrong = []\r\n",
        "    true_wrong = []\r\n",
        "    image = []\r\n",
        "\r\n",
        "\r\n",
        "    with torch.no_grad():\r\n",
        "        for data, target in test_loader:\r\n",
        "            data, target = data.to(device), target.to(device)\r\n",
        "            output = model(data)\r\n",
        "            test_loss += F.nll_loss(output, target, reduction='sum').item()  # sum up batch loss\r\n",
        "            pred = output.argmax(dim=1, keepdim=True)  # get the index of the max log-probability\r\n",
        "            correct += pred.eq(target.view_as(pred)).sum().item()\r\n",
        "            \r\n",
        "            \r\n",
        "            preds = (pred.cuda()).cpu().numpy()\r\n",
        "            target = (target.cuda()).cpu().numpy()\r\n",
        "\r\n",
        "            preds = np.reshape(preds,(len(preds),1))\r\n",
        "            target = np.reshape(target,(len(preds),1))\r\n",
        "\r\n",
        "            data = (data.cuda()).cpu().numpy()\r\n",
        "\r\n",
        "            for i in range(len(preds)):\r\n",
        "                #pred1.append(preds[i])\r\n",
        "                #true.append(target[i])\r\n",
        "\r\n",
        "              if(preds[i]!=target[i]):\r\n",
        "                pred_wrong.append(preds[i])\r\n",
        "                true_wrong.append(target[i])\r\n",
        "                image.append(data[i])\r\n",
        "\r\n",
        "    test_loss /= len(test_loader.dataset)\r\n",
        "    test_losses.append(test_loss)\r\n",
        "\r\n",
        "    print('\\nTest set: Average loss: {:.4f}, Accuracy: {}/{} ({:.2f}%)\\n'.format(\r\n",
        "        test_loss, correct, len(test_loader.dataset),\r\n",
        "        100. * correct / len(test_loader.dataset)))\r\n",
        "    test_acc.append(100. * correct / len(test_loader.dataset))\r\n",
        "\r\n",
        "    pred_wrong_t.extend(pred_wrong)\r\n",
        "    true_wrong_t.extend(true_wrong)\r\n",
        "    image_t.extend(image)"
      ],
      "execution_count": null,
      "outputs": []
    },
    {
      "cell_type": "code",
      "metadata": {
        "colab": {
          "base_uri": "https://localhost:8080/"
        },
        "id": "hkx5MGrZyKqZ",
        "outputId": "c07d1165-033b-435c-bcb0-9efd5f85e142"
      },
      "source": [
        "#state_dict = torch.load('/content/drive/MyDrive/EVA4S6/checkpoint_type5.pth')\r\n",
        "test_misclassified(trained, device, test_loader)"
      ],
      "execution_count": null,
      "outputs": [
        {
          "output_type": "stream",
          "text": [
            "\n",
            "Test set: Average loss: 0.0222, Accuracy: 9934/10000 (99.34%)\n",
            "\n"
          ],
          "name": "stdout"
        }
      ]
    },
    {
      "cell_type": "code",
      "metadata": {
        "colab": {
          "base_uri": "https://localhost:8080/",
          "height": 264
        },
        "id": "xN6Ka--AkvLr",
        "outputId": "0fa15f8a-908f-4792-8b0a-acd5991a2785"
      },
      "source": [
        "from google.colab import files\r\n",
        "import matplotlib.pyplot as plt\r\n",
        "%matplotlib inline\r\n",
        "\r\n",
        "figure = plt.figure()\r\n",
        "num_of_images = 25\r\n",
        "for index in range(1, num_of_images + 1):\r\n",
        "    plt.subplot(5,5, index)\r\n",
        "    plt.subplots_adjust(hspace=.9)\r\n",
        "    plt.axis('off')\r\n",
        "    plt.imshow(image_t[index].squeeze(), cmap='gray_r')\r\n",
        "    a='P-'+str(int(pred_wrong_t[index]))+\" A-\"+str(int(true_wrong_t[index]))\r\n",
        "    plt.title(a)\r\n",
        "  \r\n",
        "#figure.savefig('L2.png')\r\n",
        "#files.download(\"L2.png\")"
      ],
      "execution_count": null,
      "outputs": [
        {
          "output_type": "display_data",
          "data": {
            "image/png": "[encoded data removed]",
            "text/plain": [
              "<Figure size 432x288 with 25 Axes>"
            ]
          },
          "metadata": {
            "tags": [],
            "needs_background": "light"
          }
        }
      ]
    },
    {
      "cell_type": "code",
      "metadata": {
        "id": "71FOhUpTdo-6"
      },
      "source": [
        ""
      ],
      "execution_count": null,
      "outputs": []
    }
  ]
}